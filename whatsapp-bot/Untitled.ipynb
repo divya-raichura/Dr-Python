{
 "cells": [
  {
   "cell_type": "code",
   "execution_count": 7,
   "id": "3f0321c1-641e-432d-bdec-cd27cdae881f",
   "metadata": {},
   "outputs": [],
   "source": [
    "from selenium import webdriver\n",
    "from webdriver_manager.chrome import ChromeDriverManager\n",
    "from selenium.webdriver.common.keys import Keys\n",
    "from selenium.webdriver.common.by import By\n",
    "\n",
    "import time\n",
    "import random\n",
    "\n",
    "chrome = webdriver.Chrome(ChromeDriverManager().install()) # finds path and opens chrome\n",
    "time.sleep(5)\n",
    "\n",
    "chrome.get(\"https://web.whatsapp.com\")\n",
    "time.sleep(10)\n",
    "\n",
    "name_of_person = \"Vedika\"\n",
    "\n",
    "search_box = chrome.find_element(By.CLASS_NAME, \"_13NKt\")\n",
    "search_box.send_keys(name_of_person)\n",
    "search_box.send_keys(Keys.ENTER)\n",
    "\n",
    "emojis = [\":-)\", \";-)\", \">_<\", \":-(\", \"^_^\"]\n",
    "\n",
    "for i in range(0, 20):\n",
    "    text_box = chrome.find_element(By.CLASS_NAME, \"fd365im1\")\n",
    "    text_box.send_keys(random.choice(emojis))\n",
    "    text_box.send_keys(Keys.ENTER)"
   ]
  },
  {
   "cell_type": "code",
   "execution_count": null,
   "id": "92d5d581-2bc3-44cb-8295-a80b32970b53",
   "metadata": {},
   "outputs": [],
   "source": []
  }
 ],
 "metadata": {
  "kernelspec": {
   "display_name": "Python 3 (ipykernel)",
   "language": "python",
   "name": "python3"
  },
  "language_info": {
   "codemirror_mode": {
    "name": "ipython",
    "version": 3
   },
   "file_extension": ".py",
   "mimetype": "text/x-python",
   "name": "python",
   "nbconvert_exporter": "python",
   "pygments_lexer": "ipython3",
   "version": "3.10.5"
  }
 },
 "nbformat": 4,
 "nbformat_minor": 5
}
