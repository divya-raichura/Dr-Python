{
 "cells": [
  {
   "cell_type": "code",
   "execution_count": 7,
   "id": "ebcdb545-1e3e-4a9a-823e-6612f54ec9ab",
   "metadata": {},
   "outputs": [
    {
     "data": {
      "text/plain": [
       "'Elon Musk: first = Billionarie, second = Amazing, third = Inspiration, '"
      ]
     },
     "execution_count": 7,
     "metadata": {},
     "output_type": "execute_result"
    }
   ],
   "source": [
    "def print_person(name, **kwargs):\n",
    "    result = name + ': '\n",
    "    for k, v in kwargs.items():\n",
    "        result += f'{k} = {v}, '\n",
    "    return result\n",
    "print_person('Elon Musk', first = 'Billionarie', second = 'Amazing', third = 'Inspiration')"
   ]
  },
  {
   "cell_type": "code",
   "execution_count": null,
   "id": "bc4c9822-4af8-4103-bc0d-c759472efda3",
   "metadata": {},
   "outputs": [],
   "source": []
  }
 ],
 "metadata": {
  "kernelspec": {
   "display_name": "Python 3 (ipykernel)",
   "language": "python",
   "name": "python3"
  },
  "language_info": {
   "codemirror_mode": {
    "name": "ipython",
    "version": 3
   },
   "file_extension": ".py",
   "mimetype": "text/x-python",
   "name": "python",
   "nbconvert_exporter": "python",
   "pygments_lexer": "ipython3",
   "version": "3.10.2"
  }
 },
 "nbformat": 4,
 "nbformat_minor": 5
}
