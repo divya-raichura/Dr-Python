{
 "cells": [
  {
   "cell_type": "code",
   "execution_count": 1,
   "id": "e35bdc26-5456-4466-914e-b17dc3a17a22",
   "metadata": {},
   "outputs": [],
   "source": [
    "def fun():\n",
    "    print('hello')"
   ]
  },
  {
   "cell_type": "code",
   "execution_count": 2,
   "id": "1f43d0ac-d362-4646-9de7-9a9b3f0fbc8c",
   "metadata": {},
   "outputs": [
    {
     "data": {
      "text/plain": [
       "<function __main__.fun()>"
      ]
     },
     "execution_count": 2,
     "metadata": {},
     "output_type": "execute_result"
    }
   ],
   "source": [
    "# 1\n",
    "fun"
   ]
  },
  {
   "cell_type": "code",
   "execution_count": 9,
   "id": "97b2a10c-9da0-4e3b-85ba-45ed7ee62aec",
   "metadata": {},
   "outputs": [
    {
     "name": "stdout",
     "output_type": "stream",
     "text": [
      "hello\n"
     ]
    }
   ],
   "source": [
    "# 2\n",
    "fun()"
   ]
  },
  {
   "cell_type": "code",
   "execution_count": 10,
   "id": "705700d7-a5bc-420e-ab47-7b7eb85aff97",
   "metadata": {},
   "outputs": [
    {
     "name": "stdout",
     "output_type": "stream",
     "text": [
      "<function fun at 0x0000025BF8A46CB0>\n"
     ]
    }
   ],
   "source": [
    "# 3\n",
    "print(fun)"
   ]
  },
  {
   "cell_type": "code",
   "execution_count": 11,
   "id": "9123d4d1-205e-4ee9-b22c-30369afd4f6a",
   "metadata": {},
   "outputs": [
    {
     "name": "stdout",
     "output_type": "stream",
     "text": [
      "hello\n",
      "None\n"
     ]
    }
   ],
   "source": [
    "# 4 if we print a void function() then it prints the return value, here it\n",
    "# returns nothing so the return value 'none' is printed\n",
    "print(fun())"
   ]
  },
  {
   "cell_type": "code",
   "execution_count": 31,
   "id": "ecbd08ad-a992-46c9-a250-a445e9bc8433",
   "metadata": {},
   "outputs": [
    {
     "name": "stdout",
     "output_type": "stream",
     "text": [
      "hello\n"
     ]
    }
   ],
   "source": [
    "# 1 in java when we have return type integer and we store it in int\n",
    "# int ans = sum() and we have some sout statement in sum method\n",
    "# then tho we don't do sout(ans) by just int ans = sum() the sout in the\n",
    "# method is printed as when we do int ans = sum() it calls sum() and executes \n",
    "# code in sum() hence sout() inside sum() is executed but the return value \n",
    "# return a + b is stored in int ans and when we do sout(ans) then only sum is printed\n",
    "a =fun()"
   ]
  },
  {
   "cell_type": "code",
   "execution_count": 32,
   "id": "eba2701a-469c-457c-bf6a-f518e7d88e23",
   "metadata": {},
   "outputs": [],
   "source": [
    "# 2\n",
    "a"
   ]
  },
  {
   "cell_type": "code",
   "execution_count": 33,
   "id": "43d95ac8-9900-4ce8-adaa-b321b2e20c39",
   "metadata": {},
   "outputs": [
    {
     "ename": "TypeError",
     "evalue": "'NoneType' object is not callable",
     "output_type": "error",
     "traceback": [
      "\u001b[1;31m---------------------------------------------------------------------------\u001b[0m",
      "\u001b[1;31mTypeError\u001b[0m                                 Traceback (most recent call last)",
      "Input \u001b[1;32mIn [33]\u001b[0m, in \u001b[0;36m<cell line: 2>\u001b[1;34m()\u001b[0m\n\u001b[0;32m      1\u001b[0m \u001b[38;5;66;03m# 3\u001b[39;00m\n\u001b[1;32m----> 2\u001b[0m \u001b[43ma\u001b[49m\u001b[43m(\u001b[49m\u001b[43m)\u001b[49m\n",
      "\u001b[1;31mTypeError\u001b[0m: 'NoneType' object is not callable"
     ]
    }
   ],
   "source": [
    "# 3\n",
    "a()"
   ]
  },
  {
   "cell_type": "code",
   "execution_count": 34,
   "id": "ce2a12b9-fd96-433c-819b-504622cffcf0",
   "metadata": {},
   "outputs": [
    {
     "name": "stdout",
     "output_type": "stream",
     "text": [
      "None\n"
     ]
    }
   ],
   "source": [
    "# 4\n",
    "print(a)"
   ]
  },
  {
   "cell_type": "code",
   "execution_count": 16,
   "id": "e38a6dff-1e51-4a85-b59f-c5ecff091619",
   "metadata": {},
   "outputs": [
    {
     "ename": "TypeError",
     "evalue": "'NoneType' object is not callable",
     "output_type": "error",
     "traceback": [
      "\u001b[1;31m---------------------------------------------------------------------------\u001b[0m",
      "\u001b[1;31mTypeError\u001b[0m                                 Traceback (most recent call last)",
      "Input \u001b[1;32mIn [16]\u001b[0m, in \u001b[0;36m<cell line: 1>\u001b[1;34m()\u001b[0m\n\u001b[1;32m----> 1\u001b[0m \u001b[38;5;28mprint\u001b[39m(\u001b[43ma\u001b[49m\u001b[43m(\u001b[49m\u001b[43m)\u001b[49m)\n",
      "\u001b[1;31mTypeError\u001b[0m: 'NoneType' object is not callable"
     ]
    }
   ],
   "source": [
    "# 5\n",
    "print(a())"
   ]
  },
  {
   "cell_type": "code",
   "execution_count": 18,
   "id": "e9c1c479-f7e1-49e2-89c9-aac763bc880a",
   "metadata": {},
   "outputs": [],
   "source": [
    "# 1\n",
    "b = fun"
   ]
  },
  {
   "cell_type": "code",
   "execution_count": 19,
   "id": "798a3384-34a9-477f-9953-9aae586095e2",
   "metadata": {},
   "outputs": [
    {
     "data": {
      "text/plain": [
       "<function __main__.fun()>"
      ]
     },
     "execution_count": 19,
     "metadata": {},
     "output_type": "execute_result"
    }
   ],
   "source": [
    "# 2\n",
    "b"
   ]
  },
  {
   "cell_type": "code",
   "execution_count": 20,
   "id": "f22c9bc9-0255-4f8c-a9c0-51577849cd80",
   "metadata": {},
   "outputs": [
    {
     "name": "stdout",
     "output_type": "stream",
     "text": [
      "hello\n"
     ]
    }
   ],
   "source": [
    "# 3\n",
    "b()"
   ]
  },
  {
   "cell_type": "code",
   "execution_count": 21,
   "id": "36af26c7-3588-4358-9d7c-659ca680d56d",
   "metadata": {},
   "outputs": [
    {
     "name": "stdout",
     "output_type": "stream",
     "text": [
      "<function fun at 0x0000025BF8A46CB0>\n"
     ]
    }
   ],
   "source": [
    "# 4\n",
    "print(b)"
   ]
  },
  {
   "cell_type": "code",
   "execution_count": 22,
   "id": "a746f3b9-3b19-462f-90fa-97bb8a6d567f",
   "metadata": {
    "tags": []
   },
   "outputs": [
    {
     "name": "stdout",
     "output_type": "stream",
     "text": [
      "hello\n",
      "None\n"
     ]
    }
   ],
   "source": [
    "# 5\n",
    "print(b())"
   ]
  },
  {
   "cell_type": "code",
   "execution_count": 27,
   "id": "77ba2ecd-6e34-4a44-8663-69408bf7d0d2",
   "metadata": {},
   "outputs": [],
   "source": [
    "l = [3,6,7,56,9]\n",
    "def mutable_eg(a):\n",
    "    a.append(99)\n",
    "    a.append(69)\n",
    "    l.append(222)"
   ]
  },
  {
   "cell_type": "code",
   "execution_count": 28,
   "id": "1a5afabb-512a-46ec-a6e7-bea9eab9080b",
   "metadata": {},
   "outputs": [
    {
     "name": "stdout",
     "output_type": "stream",
     "text": [
      "before calling: [3, 6, 7, 56, 9]\n",
      "after calling: [3, 6, 7, 56, 9, 99, 69, 222]\n"
     ]
    }
   ],
   "source": [
    "print('before calling:', l)\n",
    "mutable_eg(l)\n",
    "print('after calling:', l)"
   ]
  },
  {
   "cell_type": "code",
   "execution_count": 29,
   "id": "2f71b9c0-9195-4d2d-b9ee-7e4ba0c2dd13",
   "metadata": {},
   "outputs": [
    {
     "name": "stdout",
     "output_type": "stream",
     "text": [
      "before calling: elon\n",
      "inside elonmusk\n",
      "after calling: elon\n"
     ]
    }
   ],
   "source": [
    "str = 'elon'\n",
    "def immutable_eg(b):\n",
    "    b = b + 'musk'\n",
    "    print('inside',b)\n",
    "print('before calling:',str)\n",
    "immutable_eg(str)\n",
    "print('after calling:', str)"
   ]
  },
  {
   "cell_type": "code",
   "execution_count": null,
   "id": "9e18151a-b8ad-479d-857b-6e4ec4d62461",
   "metadata": {},
   "outputs": [],
   "source": []
  }
 ],
 "metadata": {
  "kernelspec": {
   "display_name": "Python 3 (ipykernel)",
   "language": "python",
   "name": "python3"
  },
  "language_info": {
   "codemirror_mode": {
    "name": "ipython",
    "version": 3
   },
   "file_extension": ".py",
   "mimetype": "text/x-python",
   "name": "python",
   "nbconvert_exporter": "python",
   "pygments_lexer": "ipython3",
   "version": "3.10.2"
  }
 },
 "nbformat": 4,
 "nbformat_minor": 5
}
