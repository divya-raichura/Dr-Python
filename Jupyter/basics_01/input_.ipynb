{
 "cells": [
  {
   "cell_type": "code",
   "execution_count": 8,
   "id": "a21d7e67-5020-46de-baff-71775789d732",
   "metadata": {},
   "outputs": [],
   "source": [
    "s = '   2  3 5 1 4 9   '"
   ]
  },
  {
   "cell_type": "code",
   "execution_count": 9,
   "id": "3022dc24-c18e-4c98-805b-4da3aded82b3",
   "metadata": {},
   "outputs": [
    {
     "name": "stdout",
     "output_type": "stream",
     "text": [
      "2  3 5 1 4 9\n"
     ]
    }
   ],
   "source": [
    "sp = s.strip(' ')\n",
    "print(sp)"
   ]
  },
  {
   "cell_type": "code",
   "execution_count": 10,
   "id": "6289bb94-d7b3-4a46-8ed1-0b7b4e811df5",
   "metadata": {},
   "outputs": [
    {
     "name": "stdout",
     "output_type": "stream",
     "text": [
      "['2', '3', '5', '1', '4', '9']\n"
     ]
    }
   ],
   "source": [
    "spl = sp.split()  # spl = sp.split(' ') gives ['2', '', '3', '2', '1', '4', '9']\n",
    "print(spl)"
   ]
  },
  {
   "cell_type": "code",
   "execution_count": 11,
   "id": "7989f593-56ae-4867-b691-a05a9a2c3aed",
   "metadata": {},
   "outputs": [],
   "source": [
    "# since it was string, we have each element as string in spl, to convert every element\n",
    "# to int we use map function"
   ]
  },
  {
   "cell_type": "code",
   "execution_count": 15,
   "id": "358b4147-c238-4ffd-8884-92dc38b577a3",
   "metadata": {},
   "outputs": [
    {
     "name": "stdout",
     "output_type": "stream",
     "text": [
      "[2, 3, 5, 1, 4, 9]\n",
      "24\n"
     ]
    }
   ],
   "source": [
    "li = list(map(int, spl))\n",
    "print(li)\n",
    "print(sum(li))  # sum of all elements of list"
   ]
  },
  {
   "cell_type": "code",
   "execution_count": 16,
   "id": "8d5fcaf1-6cc2-4ab9-987a-df6f73deecc6",
   "metadata": {},
   "outputs": [],
   "source": [
    "# if input is given as \n",
    "# 1 2 3\n",
    "# 3 4\n",
    "# this is not same as \n",
    "# 1\n",
    "# 2\n",
    "# 3\n",
    "# 4\n",
    "# in python"
   ]
  },
  {
   "cell_type": "code",
   "execution_count": 42,
   "id": "ad36939e-43e9-4163-a900-7a0691ec1b9e",
   "metadata": {},
   "outputs": [
    {
     "name": "stdin",
     "output_type": "stream",
     "text": [
      " 2 4 65 15\n"
     ]
    }
   ],
   "source": [
    "n = input()  # this will take input till you press enter and whole input is a string \n",
    "# '1142 24 51 57 33' so all our nos are taken as one string\n",
    "# so to convert it to string and store it, we use \n",
    "# n = list(map(int, input().split()))"
   ]
  },
  {
   "cell_type": "code",
   "execution_count": 43,
   "id": "74046f83-5423-49be-8c69-a2f4017bbada",
   "metadata": {},
   "outputs": [
    {
     "data": {
      "text/plain": [
       "'2 4 65 15'"
      ]
     },
     "execution_count": 43,
     "metadata": {},
     "output_type": "execute_result"
    }
   ],
   "source": [
    "n "
   ]
  },
  {
   "cell_type": "code",
   "execution_count": 44,
   "id": "e67544f7-8020-4872-91a6-19497413323c",
   "metadata": {},
   "outputs": [
    {
     "data": {
      "text/plain": [
       "['2', '4', '65', '15']"
      ]
     },
     "execution_count": 44,
     "metadata": {},
     "output_type": "execute_result"
    }
   ],
   "source": [
    "n = n.split()\n",
    "n\n"
   ]
  },
  {
   "cell_type": "code",
   "execution_count": 45,
   "id": "14d24e5e-54fc-4de5-a001-a7af8c5542b1",
   "metadata": {},
   "outputs": [
    {
     "name": "stdout",
     "output_type": "stream",
     "text": [
      "[2, 4, 65, 15]\n"
     ]
    }
   ],
   "source": [
    "a = list(map(int, n))\n",
    "print(a)"
   ]
  },
  {
   "cell_type": "code",
   "execution_count": 46,
   "id": "371506cb-5e61-4756-b73f-581751885bb1",
   "metadata": {},
   "outputs": [
    {
     "name": "stdin",
     "output_type": "stream",
     "text": [
      " 35 62 114 66\n"
     ]
    }
   ],
   "source": [
    "b = input()"
   ]
  },
  {
   "cell_type": "code",
   "execution_count": 47,
   "id": "fe67db88-8c40-4fdd-ac71-efd78d24d118",
   "metadata": {},
   "outputs": [
    {
     "name": "stdin",
     "output_type": "stream",
     "text": [
      " 25 62 11 66\n"
     ]
    }
   ],
   "source": [
    "lst = list(map(int, input().split()))"
   ]
  },
  {
   "cell_type": "code",
   "execution_count": 48,
   "id": "33113c42-7230-4d15-8acb-e0ce28362f08",
   "metadata": {},
   "outputs": [
    {
     "name": "stdout",
     "output_type": "stream",
     "text": [
      "[25, 62, 11, 66]\n"
     ]
    }
   ],
   "source": [
    "print(lst)"
   ]
  },
  {
   "cell_type": "code",
   "execution_count": 51,
   "id": "96393a2b-a935-40d6-bc3e-51bf353d78bb",
   "metadata": {},
   "outputs": [
    {
     "name": "stdin",
     "output_type": "stream",
     "text": [
      " 1\n",
      " 2\n",
      " 5\n",
      " 67\n",
      " 8\n"
     ]
    }
   ],
   "source": [
    "# and if the inputs are in separate lines \n",
    "# here it will keep accepting inputs when you press enter till the asked range\n",
    "ip = [int(input()) for i in range(5)]"
   ]
  },
  {
   "cell_type": "code",
   "execution_count": 55,
   "id": "0ef0d1da-3aee-46d6-ba16-769eec007ce0",
   "metadata": {},
   "outputs": [],
   "source": [
    "# so conclusion, \n",
    "# if inputs are in same line use # here enter means all inputs given\n",
    "# lst = list(map(int, input().split()))\n",
    "\n",
    "# when inputs are given in separate lines use # here enter means a single input is given \n",
    "# ip = [int(input()) for i in range(5)]"
   ]
  },
  {
   "cell_type": "code",
   "execution_count": 4,
   "id": "5df35362-0f6e-4d13-9028-54ce1508cd41",
   "metadata": {},
   "outputs": [
    {
     "name": "stdin",
     "output_type": "stream",
     "text": [
      " 5 8 \n"
     ]
    },
    {
     "data": {
      "text/plain": [
       "'5 8 '"
      ]
     },
     "execution_count": 4,
     "metadata": {},
     "output_type": "execute_result"
    }
   ],
   "source": [
    "# when you are given two inputs\n",
    "nums = input()\n",
    "nums"
   ]
  },
  {
   "cell_type": "code",
   "execution_count": 5,
   "id": "596f0bac-6379-45e0-a3e2-8cb2ef752b3f",
   "metadata": {},
   "outputs": [],
   "source": [
    "a, b = map(int, nums.split())\n",
    "# a, b = map(int, input().split())"
   ]
  },
  {
   "cell_type": "code",
   "execution_count": 6,
   "id": "a9f32f6b-d678-4231-b866-cfc669a8e7c6",
   "metadata": {},
   "outputs": [
    {
     "data": {
      "text/plain": [
       "5"
      ]
     },
     "execution_count": 6,
     "metadata": {},
     "output_type": "execute_result"
    }
   ],
   "source": [
    "a"
   ]
  },
  {
   "cell_type": "code",
   "execution_count": 7,
   "id": "d810e375-ea2f-4fe2-b0f5-3a054f308a0f",
   "metadata": {},
   "outputs": [
    {
     "data": {
      "text/plain": [
       "8"
      ]
     },
     "execution_count": 7,
     "metadata": {},
     "output_type": "execute_result"
    }
   ],
   "source": [
    "b"
   ]
  }
 ],
 "metadata": {
  "kernelspec": {
   "display_name": "Python 3 (ipykernel)",
   "language": "python",
   "name": "python3"
  },
  "language_info": {
   "codemirror_mode": {
    "name": "ipython",
    "version": 3
   },
   "file_extension": ".py",
   "mimetype": "text/x-python",
   "name": "python",
   "nbconvert_exporter": "python",
   "pygments_lexer": "ipython3",
   "version": "3.10.2"
  }
 },
 "nbformat": 4,
 "nbformat_minor": 5
}
