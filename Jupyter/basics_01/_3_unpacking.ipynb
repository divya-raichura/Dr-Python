{
 "cells": [
  {
   "cell_type": "code",
   "execution_count": 1,
   "id": "30bdc911-2116-4c0f-9d1f-508c044373b8",
   "metadata": {},
   "outputs": [],
   "source": [
    "# ** operator"
   ]
  },
  {
   "cell_type": "code",
   "execution_count": 3,
   "id": "c50db8b0-9241-437e-a33e-8cfdeb87f024",
   "metadata": {},
   "outputs": [
    {
     "name": "stdout",
     "output_type": "stream",
     "text": [
      "{1: 'divya', 2: 'elon', 3: 'raichura', 4: 'musk'}\n"
     ]
    }
   ],
   "source": [
    "dict_1 = {1:'divya', 2:'elon'}\n",
    "dict_2 = {3:'raichura', 4:'musk'}\n",
    "mergee = {**dict_1, **dict_2}\n",
    "print(mergee)"
   ]
  },
  {
   "cell_type": "code",
   "execution_count": 4,
   "id": "8091a573-3052-4163-a51e-573f4caba6d2",
   "metadata": {},
   "outputs": [],
   "source": [
    "#  if the dictionaries we're trying to merge have repeated or common keys, then the values \n",
    "# of the right-most dictionary will override the values of the left-most dictionary\n",
    "\n",
    "# This happens because Python starts adding the key-value pairs from left to right. \n",
    "# If, in the process, Python finds keys that already exit, then the interpreter updates\n",
    "# that keys with the new value"
   ]
  },
  {
   "cell_type": "code",
   "execution_count": 31,
   "id": "2d1e346f-c828-4c64-ba98-8ea66eecf3ac",
   "metadata": {},
   "outputs": [
    {
     "name": "stdout",
     "output_type": "stream",
     "text": [
      "('welcome', 'to')\n",
      "{'c': 'python', 'd': 'i still love java'}\n",
      "\n",
      "('welcome', 'to')\n",
      "{'c': 'python', 'd': 'java'}\n"
     ]
    }
   ],
   "source": [
    "# def print_me(a,b,c):\n",
    "#     print(a,b,c)\n",
    "# # key (here c) should match the name in parameter    \n",
    "# print_me(*['welcome', 'to'], **{'c':'python'})\n",
    "\n",
    "# here in parameters we need to pay attention to number of variables\n",
    "# to remove this jhik jhik we can use *args and **kwargs\n",
    "\n",
    "def print_me(*args, **kwargs):\n",
    "    print(args, kwargs, sep='\\n')   \n",
    "print_me(*['welcome', 'to'], c = 'python', d = 'i still love java')\n",
    "print()\n",
    "print_me(*['welcome', 'to'], **{'c':'python', 'd':'java'})\n",
    "# print(**{'c':'python'}) can't do this, we can unpack dict only when it's 'inside another dict\n",
    "# note: this was for print() not print_me()... print_me() we can do"
   ]
  },
  {
   "cell_type": "code",
   "execution_count": 32,
   "id": "e7c21c2b-4460-4a03-a7ed-6c61f7c19288",
   "metadata": {},
   "outputs": [
    {
     "name": "stdout",
     "output_type": "stream",
     "text": [
      "{'a': 'Apple'}\n",
      "{'fruits': 'Orange', 'Vegitables': 'Carrot'}\n"
     ]
    }
   ],
   "source": [
    "def food(**kwargs):  \n",
    "    print(kwargs)  \n",
    "food(a=\"Apple\")  \n",
    "food(fruits=\"Orange\", Vegitables=\"Carrot\")  "
   ]
  }
 ],
 "metadata": {
  "kernelspec": {
   "display_name": "Python 3 (ipykernel)",
   "language": "python",
   "name": "python3"
  },
  "language_info": {
   "codemirror_mode": {
    "name": "ipython",
    "version": 3
   },
   "file_extension": ".py",
   "mimetype": "text/x-python",
   "name": "python",
   "nbconvert_exporter": "python",
   "pygments_lexer": "ipython3",
   "version": "3.10.2"
  }
 },
 "nbformat": 4,
 "nbformat_minor": 5
}
