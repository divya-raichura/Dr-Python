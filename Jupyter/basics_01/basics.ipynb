{
 "cells": [
  {
   "cell_type": "code",
   "execution_count": 5,
   "id": "4df2f004-1fa5-4088-af7e-cb29835d84be",
   "metadata": {},
   "outputs": [
    {
     "data": {
      "text/plain": [
       "[[1, 2, 3, 4, 5, 6, 7, 8, 9, 10],\n",
       " [2, 4, 6, 8, 10, 12, 14, 16, 18, 20],\n",
       " [3, 6, 9, 12, 15, 18, 21, 24, 27, 30],\n",
       " [4, 8, 12, 16, 20, 24, 28, 32, 36, 40],\n",
       " [5, 10, 15, 20, 25, 30, 35, 40, 45, 50],\n",
       " [6, 12, 18, 24, 30, 36, 42, 48, 54, 60],\n",
       " [7, 14, 21, 28, 35, 42, 49, 56, 63, 70],\n",
       " [8, 16, 24, 32, 40, 48, 56, 64, 72, 80],\n",
       " [9, 18, 27, 36, 45, 54, 63, 72, 81, 90],\n",
       " [10, 20, 30, 40, 50, 60, 70, 80, 90, 100]]"
      ]
     },
     "execution_count": 5,
     "metadata": {},
     "output_type": "execute_result"
    }
   ],
   "source": [
    "[[i * n for i in range(1,11)] for n in range(1,11)]"
   ]
  },
  {
   "cell_type": "code",
   "execution_count": 6,
   "id": "6c299063-8b3f-4175-afba-9d49a314b8e5",
   "metadata": {},
   "outputs": [
    {
     "ename": "TypeError",
     "evalue": "can't multiply sequence by non-int of type 'list'",
     "output_type": "error",
     "traceback": [
      "\u001b[1;31m---------------------------------------------------------------------------\u001b[0m",
      "\u001b[1;31mTypeError\u001b[0m                                 Traceback (most recent call last)",
      "Input \u001b[1;32mIn [6]\u001b[0m, in \u001b[0;36m<cell line: 3>\u001b[1;34m()\u001b[0m\n\u001b[0;32m      1\u001b[0m a \u001b[38;5;241m=\u001b[39m [\u001b[38;5;241m13\u001b[39m,\u001b[38;5;241m4\u001b[39m,\u001b[38;5;241m5\u001b[39m,\u001b[38;5;241m114\u001b[39m,\u001b[38;5;241m55\u001b[39m]\n\u001b[0;32m      2\u001b[0m b \u001b[38;5;241m=\u001b[39m [\u001b[38;5;241m243\u001b[39m,\u001b[38;5;241m442\u001b[39m,\u001b[38;5;241m2556\u001b[39m,\u001b[38;5;241m142\u001b[39m]\n\u001b[1;32m----> 3\u001b[0m \u001b[43ma\u001b[49m\u001b[43m \u001b[49m\u001b[38;5;241;43m*\u001b[39;49m\u001b[43m \u001b[49m\u001b[43mb\u001b[49m\n",
      "\u001b[1;31mTypeError\u001b[0m: can't multiply sequence by non-int of type 'list'"
     ]
    }
   ],
   "source": [
    "a = [13,4,5,114,55]\n",
    "b = [243,442,2556,142]\n",
    "a * b"
   ]
  },
  {
   "cell_type": "code",
   "execution_count": 7,
   "id": "0b8b7f39-e2ad-4ecb-9af1-2725838de62c",
   "metadata": {},
   "outputs": [
    {
     "data": {
      "text/plain": [
       "[13, 4, 5, 114, 55, 243, 442, 2556, 142]"
      ]
     },
     "execution_count": 7,
     "metadata": {},
     "output_type": "execute_result"
    }
   ],
   "source": [
    "a + b\n"
   ]
  },
  {
   "cell_type": "code",
   "execution_count": 8,
   "id": "0b636cb4-5a2f-4a0c-8c43-53ed66ed1004",
   "metadata": {},
   "outputs": [
    {
     "data": {
      "text/plain": [
       "[13, 4, 5, 114, 55, 13, 4, 5, 114, 55]"
      ]
     },
     "execution_count": 8,
     "metadata": {},
     "output_type": "execute_result"
    }
   ],
   "source": [
    "a  *  2\n"
   ]
  },
  {
   "cell_type": "code",
   "execution_count": 4,
   "id": "3cd4340c-a772-4599-964c-cdad8084a280",
   "metadata": {},
   "outputs": [
    {
     "name": "stdout",
     "output_type": "stream",
     "text": [
      "{56, 'Javatpoint', 23}\n"
     ]
    }
   ],
   "source": [
    "set1 = {23,44,56,67,90,45,\"Javatpoint\"}  \n",
    "set2 = {13,23,56,76,\"Sachin\", \"Javatpoint\"}  \n",
    "set3 = set1.intersection(set2)  \n",
    "print(set3) "
   ]
  },
  {
   "cell_type": "code",
   "execution_count": 5,
   "id": "e310384b-00ff-4503-968c-5edbf596d93b",
   "metadata": {},
   "outputs": [],
   "source": [
    "d = {('hello', 'divya'), ('hi elon!')}"
   ]
  },
  {
   "cell_type": "code",
   "execution_count": 6,
   "id": "e3960084-25de-48da-927b-6f8b1af5c0ac",
   "metadata": {},
   "outputs": [
    {
     "data": {
      "text/plain": [
       "{('hello', 'divya'), 'hi elon!'}"
      ]
     },
     "execution_count": 6,
     "metadata": {},
     "output_type": "execute_result"
    }
   ],
   "source": [
    "d\n"
   ]
  },
  {
   "cell_type": "code",
   "execution_count": 7,
   "id": "8cff5688-06ea-4be6-9d7f-fdc98a893171",
   "metadata": {},
   "outputs": [
    {
     "data": {
      "text/plain": [
       "set"
      ]
     },
     "execution_count": 7,
     "metadata": {},
     "output_type": "execute_result"
    }
   ],
   "source": [
    "type(d)"
   ]
  },
  {
   "cell_type": "code",
   "execution_count": 8,
   "id": "dbdd345c-d7fd-46ac-bf59-9d8c9783cf18",
   "metadata": {},
   "outputs": [],
   "source": [
    "d = {1:'divya', 2:'elon'}"
   ]
  },
  {
   "cell_type": "code",
   "execution_count": 9,
   "id": "41df4bd1-9523-4a9d-8be6-09c95ddecfff",
   "metadata": {},
   "outputs": [
    {
     "data": {
      "text/plain": [
       "{1: 'divya', 2: 'elon'}"
      ]
     },
     "execution_count": 9,
     "metadata": {},
     "output_type": "execute_result"
    }
   ],
   "source": [
    "d\n"
   ]
  },
  {
   "cell_type": "code",
   "execution_count": 10,
   "id": "b52fe488-0cb9-45eb-aa08-9887b09c377e",
   "metadata": {},
   "outputs": [
    {
     "data": {
      "text/plain": [
       "dict"
      ]
     },
     "execution_count": 10,
     "metadata": {},
     "output_type": "execute_result"
    }
   ],
   "source": [
    "type(d)"
   ]
  },
  {
   "cell_type": "code",
   "execution_count": 3,
   "id": "dcb02064-e6eb-49ee-921e-9a3dcb567257",
   "metadata": {},
   "outputs": [
    {
     "data": {
      "text/plain": [
       "{'hello': 'divya', 'hi': 'elon'}"
      ]
     },
     "execution_count": 3,
     "metadata": {},
     "output_type": "execute_result"
    }
   ],
   "source": [
    "e = dict([('hello', 'divya'), ('hi', 'elon')])\n",
    "e"
   ]
  },
  {
   "cell_type": "code",
   "execution_count": 4,
   "id": "da2a1e57-e7c2-45a7-ba3d-34efa81a4d0b",
   "metadata": {},
   "outputs": [],
   "source": [
    "f = {}"
   ]
  },
  {
   "cell_type": "code",
   "execution_count": 5,
   "id": "5279a576-9764-4941-ac28-c74e4f2595bc",
   "metadata": {},
   "outputs": [
    {
     "data": {
      "text/plain": [
       "dict"
      ]
     },
     "execution_count": 5,
     "metadata": {},
     "output_type": "execute_result"
    }
   ],
   "source": [
    "type(f)"
   ]
  },
  {
   "cell_type": "code",
   "execution_count": 6,
   "id": "1c07eef1-538b-43c4-b940-e69c04d4c814",
   "metadata": {},
   "outputs": [],
   "source": [
    "f[1] = 'hello'"
   ]
  },
  {
   "cell_type": "code",
   "execution_count": 7,
   "id": "2192c92d-3a85-4a88-80c9-7239aac636bf",
   "metadata": {},
   "outputs": [
    {
     "data": {
      "text/plain": [
       "{1: 'hello'}"
      ]
     },
     "execution_count": 7,
     "metadata": {},
     "output_type": "execute_result"
    }
   ],
   "source": [
    "f"
   ]
  },
  {
   "cell_type": "code",
   "execution_count": 8,
   "id": "8dc5186e-78bf-4747-83b3-a2dcbead9c80",
   "metadata": {},
   "outputs": [],
   "source": [
    "f[4] = 'divya'"
   ]
  },
  {
   "cell_type": "code",
   "execution_count": 9,
   "id": "7a95eee3-e61c-4da2-9d9e-df740ba39fb6",
   "metadata": {},
   "outputs": [
    {
     "data": {
      "text/plain": [
       "{1: 'hello', 4: 'divya'}"
      ]
     },
     "execution_count": 9,
     "metadata": {},
     "output_type": "execute_result"
    }
   ],
   "source": [
    "f"
   ]
  },
  {
   "cell_type": "code",
   "execution_count": 10,
   "id": "11ac0fd3-dcc7-4d93-9ad4-4a120f7032b9",
   "metadata": {},
   "outputs": [],
   "source": [
    "f['cool_guys'] = 'divya', 'elon', 'kunal'"
   ]
  },
  {
   "cell_type": "code",
   "execution_count": 11,
   "id": "ae3d3d30-2cf6-47e0-acc0-0438b1900311",
   "metadata": {},
   "outputs": [
    {
     "data": {
      "text/plain": [
       "{1: 'hello', 4: 'divya', 'cool_guys': ('divya', 'elon', 'kunal')}"
      ]
     },
     "execution_count": 11,
     "metadata": {},
     "output_type": "execute_result"
    }
   ],
   "source": [
    "f"
   ]
  },
  {
   "cell_type": "code",
   "execution_count": 24,
   "id": "4df455d6-fc45-4228-8a9d-b6e59df51117",
   "metadata": {},
   "outputs": [
    {
     "data": {
      "text/plain": [
       "tuple"
      ]
     },
     "execution_count": 24,
     "metadata": {},
     "output_type": "execute_result"
    }
   ],
   "source": [
    "type(f['cool_guys'])"
   ]
  },
  {
   "cell_type": "code",
   "execution_count": 25,
   "id": "5554682b-74b1-454a-878f-f0c47a3e7225",
   "metadata": {},
   "outputs": [
    {
     "data": {
      "text/plain": [
       "str"
      ]
     },
     "execution_count": 25,
     "metadata": {},
     "output_type": "execute_result"
    }
   ],
   "source": [
    "type(f[1])"
   ]
  },
  {
   "cell_type": "code",
   "execution_count": 28,
   "id": "10e794bc-1c70-4a76-940a-0376876a7ea3",
   "metadata": {},
   "outputs": [
    {
     "data": {
      "text/plain": [
       "{1: 'hello', 4: 'divya', 'cool_guys': ('divya', 'elon', 'kunal'), 'naya': 29}"
      ]
     },
     "execution_count": 28,
     "metadata": {},
     "output_type": "execute_result"
    }
   ],
   "source": [
    "f['naya'] = 29\n",
    "f"
   ]
  },
  {
   "cell_type": "code",
   "execution_count": 36,
   "id": "cab3c2fb-2f03-447b-8c7b-9f3b6ec9ac40",
   "metadata": {},
   "outputs": [
    {
     "data": {
      "text/plain": [
       "int"
      ]
     },
     "execution_count": 36,
     "metadata": {},
     "output_type": "execute_result"
    }
   ],
   "source": [
    "type(f['naya'])"
   ]
  },
  {
   "cell_type": "code",
   "execution_count": 37,
   "id": "46ce682b-340c-4a5b-8295-224f21043c26",
   "metadata": {},
   "outputs": [
    {
     "data": {
      "text/plain": [
       "{1: 'hello', 'cool_guys': ('divya', 'elon', 'kunal'), 'naya': 29}"
      ]
     },
     "execution_count": 37,
     "metadata": {},
     "output_type": "execute_result"
    }
   ],
   "source": [
    "f"
   ]
  },
  {
   "cell_type": "code",
   "execution_count": 38,
   "id": "cc2424f5-ed83-4e3a-880c-419e1ebdf0ad",
   "metadata": {},
   "outputs": [],
   "source": [
    "f[4] = 'divya'"
   ]
  },
  {
   "cell_type": "code",
   "execution_count": 39,
   "id": "737a2c70-4a4d-45ab-aa29-da3b4c2025f7",
   "metadata": {},
   "outputs": [
    {
     "data": {
      "text/plain": [
       "{1: 'hello', 'cool_guys': ('divya', 'elon', 'kunal'), 'naya': 29, 4: 'divya'}"
      ]
     },
     "execution_count": 39,
     "metadata": {},
     "output_type": "execute_result"
    }
   ],
   "source": [
    "f"
   ]
  },
  {
   "cell_type": "code",
   "execution_count": 40,
   "id": "5b67d0b2-4aef-45ab-af77-1a6f07e8a48a",
   "metadata": {},
   "outputs": [],
   "source": [
    "deleted_word = f.pop(1)"
   ]
  },
  {
   "cell_type": "code",
   "execution_count": 41,
   "id": "b05fbcde-b740-49ee-835f-9facd19e3ec6",
   "metadata": {},
   "outputs": [
    {
     "data": {
      "text/plain": [
       "'hello'"
      ]
     },
     "execution_count": 41,
     "metadata": {},
     "output_type": "execute_result"
    }
   ],
   "source": [
    "deleted_word"
   ]
  },
  {
   "cell_type": "code",
   "execution_count": 42,
   "id": "efed590b-c121-462d-85de-8209d08c8968",
   "metadata": {},
   "outputs": [
    {
     "data": {
      "text/plain": [
       "'hello'"
      ]
     },
     "execution_count": 42,
     "metadata": {},
     "output_type": "execute_result"
    }
   ],
   "source": [
    "deleted_word"
   ]
  },
  {
   "cell_type": "code",
   "execution_count": 48,
   "id": "540d43a6-ec87-41c0-9454-306013792c08",
   "metadata": {},
   "outputs": [
    {
     "data": {
      "text/plain": [
       "{'cool_guys': ('divya', 'elon', 'kunal'), 'naya': 29, 4: 'divya'}"
      ]
     },
     "execution_count": 48,
     "metadata": {},
     "output_type": "execute_result"
    }
   ],
   "source": [
    "f"
   ]
  },
  {
   "cell_type": "code",
   "execution_count": 49,
   "id": "9fe258cd-d673-4dfc-bba8-a03f02d911b9",
   "metadata": {},
   "outputs": [],
   "source": [
    "str = 'divya'"
   ]
  },
  {
   "cell_type": "code",
   "execution_count": 50,
   "id": "657ccd64-4f4b-420c-ac3e-5589f5d84457",
   "metadata": {},
   "outputs": [
    {
     "data": {
      "text/plain": [
       "'divyaraichura'"
      ]
     },
     "execution_count": 50,
     "metadata": {},
     "output_type": "execute_result"
    }
   ],
   "source": [
    "str + 'raichura'"
   ]
  },
  {
   "cell_type": "code",
   "execution_count": 51,
   "id": "fd5cc198-b080-4223-a4f9-6021f20cf15e",
   "metadata": {},
   "outputs": [
    {
     "name": "stdout",
     "output_type": "stream",
     "text": [
      "divya\n"
     ]
    }
   ],
   "source": [
    "print(str)"
   ]
  },
  {
   "cell_type": "code",
   "execution_count": 52,
   "id": "6916e125-b793-437a-8250-c146ea3333e0",
   "metadata": {},
   "outputs": [],
   "source": [
    "str = 'elon'"
   ]
  },
  {
   "cell_type": "code",
   "execution_count": 53,
   "id": "a6c315da-fe7a-4d21-a2f8-87ff05a51ae5",
   "metadata": {},
   "outputs": [
    {
     "data": {
      "text/plain": [
       "'elon'"
      ]
     },
     "execution_count": 53,
     "metadata": {},
     "output_type": "execute_result"
    }
   ],
   "source": [
    "str"
   ]
  },
  {
   "cell_type": "code",
   "execution_count": 54,
   "id": "6a39da2d-8b62-4589-8153-f9185a37242a",
   "metadata": {},
   "outputs": [],
   "source": [
    "str = str + 'musk'"
   ]
  },
  {
   "cell_type": "code",
   "execution_count": 55,
   "id": "655a18b4-574c-4eb5-baa3-506cc5076eb7",
   "metadata": {},
   "outputs": [
    {
     "name": "stdout",
     "output_type": "stream",
     "text": [
      "elonmusk\n"
     ]
    }
   ],
   "source": [
    "print(str)"
   ]
  },
  {
   "cell_type": "code",
   "execution_count": 58,
   "id": "c6ed4dd3-6fb7-47f7-8c03-545b131ed3cb",
   "metadata": {},
   "outputs": [],
   "source": [
    "l = [3,6,7,56,9]"
   ]
  },
  {
   "cell_type": "code",
   "execution_count": 68,
   "id": "5e143cda-94b9-4853-ba3e-8cff9c7d6b2f",
   "metadata": {},
   "outputs": [],
   "source": [
    "def mutable_eg(a):\n",
    "    a.append(99)\n",
    "    a.append(69)\n",
    "    l.append(222)"
   ]
  },
  {
   "cell_type": "code",
   "execution_count": 69,
   "id": "f51c355d-6cd2-45eb-a039-35e4cc60c681",
   "metadata": {},
   "outputs": [
    {
     "name": "stdout",
     "output_type": "stream",
     "text": [
      "before calling: [3, 6, 7, 56, 9, 99]\n",
      "after calling: [3, 6, 7, 56, 9, 99, 99, 69, 222]\n"
     ]
    }
   ],
   "source": [
    "print('before calling:', l)\n",
    "mutable_eg(l)\n",
    "print('after calling:', l)"
   ]
  },
  {
   "cell_type": "code",
   "execution_count": 66,
   "id": "48c7d186-340c-4e9b-a2a4-f4fde495a490",
   "metadata": {},
   "outputs": [
    {
     "name": "stdout",
     "output_type": "stream",
     "text": [
      "before calling: elon\n",
      "inside elonmusk\n",
      "after calling: elon\n"
     ]
    }
   ],
   "source": [
    "str = 'elon'\n",
    "def immutable_eg(b):\n",
    "    b = b + 'musk'\n",
    "    print('inside',b)\n",
    "print('before calling:',str)\n",
    "immutable_eg(str)\n",
    "print('after calling:', str)"
   ]
  },
  {
   "cell_type": "code",
   "execution_count": 13,
   "id": "e9a344b4-b912-4ad3-8cd0-770062b2e2f1",
   "metadata": {},
   "outputs": [],
   "source": [
    "wah = dict([(33, 'divya'), (321, 'elon')])"
   ]
  },
  {
   "cell_type": "code",
   "execution_count": 19,
   "id": "58fc441d-62a1-4222-8b22-3e57d5c2ab38",
   "metadata": {},
   "outputs": [
    {
     "name": "stdout",
     "output_type": "stream",
     "text": [
      "<class 'dict'>\n",
      "{33: 'divya', 321: 'elon'}\n"
     ]
    }
   ],
   "source": [
    "print(type(wah))\n",
    "print(wah)"
   ]
  },
  {
   "cell_type": "code",
   "execution_count": 20,
   "id": "e57348d8-0857-47fc-8fe7-976354c46239",
   "metadata": {},
   "outputs": [
    {
     "data": {
      "text/plain": [
       "str"
      ]
     },
     "execution_count": 20,
     "metadata": {},
     "output_type": "execute_result"
    }
   ],
   "source": [
    "type(wah[33])"
   ]
  },
  {
   "cell_type": "code",
   "execution_count": null,
   "id": "36b18055-15dc-4e75-acd4-974d28034d80",
   "metadata": {},
   "outputs": [],
   "source": []
  }
 ],
 "metadata": {
  "kernelspec": {
   "display_name": "Python 3 (ipykernel)",
   "language": "python",
   "name": "python3"
  },
  "language_info": {
   "codemirror_mode": {
    "name": "ipython",
    "version": 3
   },
   "file_extension": ".py",
   "mimetype": "text/x-python",
   "name": "python",
   "nbconvert_exporter": "python",
   "pygments_lexer": "ipython3",
   "version": "3.10.2"
  }
 },
 "nbformat": 4,
 "nbformat_minor": 5
}
