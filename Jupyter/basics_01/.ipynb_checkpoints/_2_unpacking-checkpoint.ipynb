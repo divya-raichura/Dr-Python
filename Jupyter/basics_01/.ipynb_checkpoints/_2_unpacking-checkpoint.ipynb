{
 "cells": [
  {
   "cell_type": "code",
   "execution_count": 4,
   "id": "9f5dc829-3d03-472a-addb-fe8977125932",
   "metadata": {},
   "outputs": [],
   "source": [
    "(a, b, c) = (1, 2, 3)  # tuple unpacking\n",
    "# number of values on lhs and rhs should be equal"
   ]
  },
  {
   "cell_type": "code",
   "execution_count": 5,
   "id": "8021148f-e19b-432c-9b6f-b301d3dd6174",
   "metadata": {},
   "outputs": [
    {
     "name": "stdout",
     "output_type": "stream",
     "text": [
      "1 2 3\n"
     ]
    }
   ],
   "source": [
    "print(a,b,c)"
   ]
  },
  {
   "cell_type": "code",
   "execution_count": 7,
   "id": "f1713f10-bf29-4a00-99a6-539f6df7eeee",
   "metadata": {},
   "outputs": [],
   "source": [
    "# (a, b, c) = 1, 2, 3\n",
    "# a, b, c = (1, 2, 3)\n",
    "# a, b, c = 1, 2, 3\n",
    "# x, y, z = '123'  # this means x = 1, y = 2, z = 3"
   ]
  },
  {
   "cell_type": "code",
   "execution_count": 27,
   "id": "46d3677d-468b-49e6-bc95-47a1b7bea7a3",
   "metadata": {},
   "outputs": [
    {
     "name": "stdout",
     "output_type": "stream",
     "text": [
      "<generator object <genexpr> at 0x000001A4869B6030>\n"
     ]
    }
   ],
   "source": [
    "gen = (i ** 2 for i in range(5))  # to print this we need to directly store it in list gen = []\n",
    "# or we need to do gen = list() or print(list(gen))\n",
    "print(gen)"
   ]
  },
  {
   "cell_type": "code",
   "execution_count": 28,
   "id": "e552a783-1064-4469-a4ef-ca8d74c37c42",
   "metadata": {},
   "outputs": [
    {
     "data": {
      "text/plain": [
       "[0, 1, 4, 9, 16]"
      ]
     },
     "execution_count": 37,
     "metadata": {},
     "output_type": "execute_result"
    }
   ],
   "source": [
    "# https://stackoverflow.com/questions/5164642/how-to-print-a-generator-expression\n",
    "list(gen) "
   ]
  },
  {
   "cell_type": "code",
   "execution_count": 29,
   "id": "18281b30-087e-4e80-889d-dc032cf7fd81",
   "metadata": {},
   "outputs": [],
   "source": [
    "g = [i ** 3 for i in range(5)]"
   ]
  },
  {
   "cell_type": "code",
   "execution_count": 30,
   "id": "e671b9ca-1b70-4f89-8f72-9135028c1d31",
   "metadata": {},
   "outputs": [
    {
     "name": "stdout",
     "output_type": "stream",
     "text": [
      "[0, 1, 8, 27, 64]\n"
     ]
    }
   ],
   "source": [
    "print(g)"
   ]
  },
  {
   "cell_type": "code",
   "execution_count": 35,
   "id": "20d39341-1bb8-44fa-a8a0-36d345fdced4",
   "metadata": {},
   "outputs": [
    {
     "name": "stdout",
     "output_type": "stream",
     "text": [
      "[0, 1, 16, 81, 256]\n",
      "<generator object <genexpr> at 0x000001A4869B6340>\n"
     ]
    }
   ],
   "source": [
    "d = (i ** 4 for i in range(5))\n",
    "print(list(d))\n",
    "print(d)"
   ]
  },
  {
   "cell_type": "code",
   "execution_count": 43,
   "id": "5fee4b7e-9fe7-4a63-beb6-f3248948af27",
   "metadata": {},
   "outputs": [
    {
     "name": "stdout",
     "output_type": "stream",
     "text": [
      "0 1 4\n"
     ]
    }
   ],
   "source": [
    "gen = (i ** 2 for i in range(3))\n",
    "a, b, c = gen\n",
    "print(a, b, c)"
   ]
  },
  {
   "cell_type": "code",
   "execution_count": 49,
   "id": "308c7727-33c3-4c1e-b60f-8a93e2856ec2",
   "metadata": {},
   "outputs": [
    {
     "name": "stdout",
     "output_type": "stream",
     "text": [
      "one 2 3\n",
      "divya raichura musk\n"
     ]
    }
   ],
   "source": [
    "my_dict = {'one' : 'divya', 2 : 'raichura', 3: 'musk'}\n",
    "a, b, c = my_dict\n",
    "print(a, b, c) # prints keys\n",
    "x, y, z = my_dict.values()\n",
    "print(x,y,z) # prints values and for printing tuple pair of (key, value) use \n",
    "# x, y, z =  my_dict.items()"
   ]
  },
  {
   "cell_type": "code",
   "execution_count": 52,
   "id": "c0f99f69-fe76-4abf-ba10-909e6934b77e",
   "metadata": {},
   "outputs": [
    {
     "name": "stdout",
     "output_type": "stream",
     "text": [
      "1 2 4\n",
      "[1, 2, 4]\n"
     ]
    }
   ],
   "source": [
    "# if we don't know the number of values on rhs then we use *operator\n",
    "# note that lhs should be tuple so we use comma after the ref var\n",
    "*a, = 1,2,4\n",
    "print(*a)  # this unpacks \n",
    "print(a)  # this is packed as a list"
   ]
  },
  {
   "cell_type": "code",
   "execution_count": 55,
   "id": "3542b7a3-cbd2-4155-b476-aeaf5beb0fce",
   "metadata": {},
   "outputs": [
    {
     "name": "stdout",
     "output_type": "stream",
     "text": [
      "a: 1 \n",
      "b: [32, 4, 5, 7] \n",
      "c: 8\n"
     ]
    }
   ],
   "source": [
    "# python automatically adjusts the no of values to pack in variable\n",
    "a, *b, c = 1,32,4,5,7,8\n",
    "print('a:',a,'\\nb:',b,'\\nc:',c)"
   ]
  },
  {
   "cell_type": "code",
   "execution_count": 59,
   "id": "991c25a5-562a-42a5-ac6a-4163e8d46b8d",
   "metadata": {},
   "outputs": [
    {
     "name": "stdout",
     "output_type": "stream",
     "text": [
      "[0, 5, 10, 15, 20]\n",
      "0 5 10 15 20\n"
     ]
    }
   ],
   "source": [
    "g = [i * 5 for i in range(5)]\n",
    "print(g)\n",
    "print(*g)"
   ]
  },
  {
   "cell_type": "code",
   "execution_count": 63,
   "id": "5352af2a-e972-4841-ad6f-74b50937ea82",
   "metadata": {},
   "outputs": [
    {
     "name": "stdout",
     "output_type": "stream",
     "text": [
      "<generator object <genexpr> at 0x000001A4884CC040>\n",
      "[0, 3, 6, 9, 12]\n",
      "unpacking: 0 3 6 9 12\n"
     ]
    }
   ],
   "source": [
    "# if we want to collect elements of a generator in a single variable without using list() \n",
    "gen = (i * 3 for i in range(5))\n",
    "print(gen)\n",
    "*g, = gen\n",
    "print(g)\n",
    "print('unpacking:',*g)"
   ]
  },
  {
   "cell_type": "code",
   "execution_count": 67,
   "id": "7a54ce75-4671-4050-bed2-4507bcd53fc9",
   "metadata": {},
   "outputs": [
    {
     "name": "stdout",
     "output_type": "stream",
     "text": [
      "[0, 1, 2, 3, 4, 5, 6, 7, 8, 9, 10]\n",
      "unpacking; 0 1 2 3 4 5 6 7 8 9 10\n"
     ]
    }
   ],
   "source": [
    "# eg 2:\n",
    "*r, = range(11)\n",
    "print(r)\n",
    "print('unpacking;',*r)"
   ]
  },
  {
   "cell_type": "code",
   "execution_count": 68,
   "id": "1c13ec67-aecb-4f5f-822d-bacf3a34d3bf",
   "metadata": {},
   "outputs": [],
   "source": [
    "a, b = 10, 20"
   ]
  },
  {
   "cell_type": "code",
   "execution_count": 71,
   "id": "82ea7a00-8abb-4d0d-ad7a-25a97e52ed04",
   "metadata": {},
   "outputs": [],
   "source": [
    "seq = [2,3,4,6,65,8]\n",
    "first, *body, last = seq\n",
    "# instead of \n",
    "# first, body, last = seq[0], seq[1:3], seq[-1]"
   ]
  },
  {
   "cell_type": "code",
   "execution_count": 72,
   "id": "e6d8576d-6edd-4398-98ae-435cafa05b2e",
   "metadata": {},
   "outputs": [],
   "source": [
    "# merging\n",
    "my_tuple = (1,2,3,4)\n",
    "new_tuple = (-1,0, my_tuple,23,45,78)"
   ]
  },
  {
   "cell_type": "code",
   "execution_count": 73,
   "id": "804e04a6-f46c-47f3-b725-eaa1a7b12b4a",
   "metadata": {},
   "outputs": [
    {
     "name": "stdout",
     "output_type": "stream",
     "text": [
      "(-1, 0, (1, 2, 3, 4), 23, 45, 78)\n"
     ]
    }
   ],
   "source": [
    "print(new_tuple)"
   ]
  },
  {
   "cell_type": "code",
   "execution_count": 76,
   "id": "9a49a16a-4a44-4eaf-abd8-36695397573b",
   "metadata": {},
   "outputs": [
    {
     "name": "stdout",
     "output_type": "stream",
     "text": [
      "(-1, 0, 1, 2, 3, 4, 10, 33, 57, 909)\n"
     ]
    }
   ],
   "source": [
    "# but we want all elements of my_tuple to merge, here the tuple became an element\n",
    "# we use unpacking, we know that to remove all elements of list/tuple together we use *\n",
    "new_tuple_2 = (-1,0,*my_tuple, 10,33,57,909)\n",
    "print(new_tuple_2)"
   ]
  },
  {
   "cell_type": "code",
   "execution_count": 83,
   "id": "d10959ec-81cb-4fd9-a3be-657c41ad31cb",
   "metadata": {},
   "outputs": [],
   "source": [
    "# merging all sets, lists, tuples, range(), string to a single list\n",
    "my_list = [2,3,5,7]\n",
    "my_tup  = (99,33,11,13)\n",
    "my_str  = 'abc'\n",
    "my_ran  = range(20,26)\n",
    "my_set  = {69,420, 'elon musk'}\n",
    "mergeee = [*my_list, *my_tup, *my_str, *my_ran, *my_set]"
   ]
  },
  {
   "cell_type": "code",
   "execution_count": 86,
   "id": "82e9a39b-b62b-4fc4-975f-ad809f7ad3ee",
   "metadata": {},
   "outputs": [
    {
     "name": "stdout",
     "output_type": "stream",
     "text": [
      "[2, 3, 5, 7, 99, 33, 11, 13, 'a', 'b', 'c', 20, 21, 22, 23, 24, 25, 420, 69, 'elon musk']\n"
     ]
    }
   ],
   "source": [
    "print(mergeee)"
   ]
  },
  {
   "cell_type": "code",
   "execution_count": 116,
   "id": "965d64d0-a974-474b-a295-7a37a054ec48",
   "metadata": {},
   "outputs": [
    {
     "name": "stdout",
     "output_type": "stream",
     "text": [
      "Jimmy five times 0th number\n",
      "Jimmy five times 1th number\n",
      "Jimmy five times 2th number\n",
      "Jimmy five times 3th number\n",
      "Jimmy five times 4th number\n"
     ]
    }
   ],
   "source": [
    "for i in range(5):\n",
    "    # print(f'Jimmy five times {i}')\n",
    "    # or \n",
    "    # print('Jimmy five times {}'.format(i))\n",
    "    # or\n",
    "    # print(f'Jimmy five times %d%s'%(i, 'th number'))"
   ]
  },
  {
   "cell_type": "code",
   "execution_count": null,
   "id": "3ac4adb3-76d1-4254-85c7-88626db4285a",
   "metadata": {},
   "outputs": [],
   "source": []
  }
 ],
 "metadata": {
  "kernelspec": {
   "display_name": "Python 3 (ipykernel)",
   "language": "python",
   "name": "python3"
  },
  "language_info": {
   "codemirror_mode": {
    "name": "ipython",
    "version": 3
   },
   "file_extension": ".py",
   "mimetype": "text/x-python",
   "name": "python",
   "nbconvert_exporter": "python",
   "pygments_lexer": "ipython3",
   "version": "3.10.2"
  }
 },
 "nbformat": 4,
 "nbformat_minor": 5
}
