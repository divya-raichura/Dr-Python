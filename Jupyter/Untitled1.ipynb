{
 "cells": [
  {
   "cell_type": "code",
   "execution_count": 1,
   "id": "3a69d016-e5e5-406a-898c-ab2a291c3ac1",
   "metadata": {},
   "outputs": [],
   "source": [
    "a = {(2, 'divya'), (3, 'elon')}"
   ]
  },
  {
   "cell_type": "code",
   "execution_count": 2,
   "id": "16a7a9ce-6944-4519-85b6-82d3edd77a50",
   "metadata": {},
   "outputs": [
    {
     "data": {
      "text/plain": [
       "{(2, 'divya'), (3, 'elon')}"
      ]
     },
     "execution_count": 2,
     "metadata": {},
     "output_type": "execute_result"
    }
   ],
   "source": [
    "a"
   ]
  },
  {
   "cell_type": "code",
   "execution_count": 3,
   "id": "1361182b-eecc-4caf-8369-de2058f2c050",
   "metadata": {},
   "outputs": [
    {
     "data": {
      "text/plain": [
       "set"
      ]
     },
     "execution_count": 3,
     "metadata": {},
     "output_type": "execute_result"
    }
   ],
   "source": [
    "type(a)"
   ]
  },
  {
   "cell_type": "code",
   "execution_count": 4,
   "id": "c944f5c7-fc9d-4be9-adaf-024b8d776062",
   "metadata": {},
   "outputs": [],
   "source": [
    "a = dict({(2, 'divya'), (3, 'elon')})"
   ]
  },
  {
   "cell_type": "code",
   "execution_count": 5,
   "id": "785abf04-afeb-4b6a-b196-c9a7e6bcc3b9",
   "metadata": {},
   "outputs": [
    {
     "data": {
      "text/plain": [
       "{3: 'elon', 2: 'divya'}"
      ]
     },
     "execution_count": 5,
     "metadata": {},
     "output_type": "execute_result"
    }
   ],
   "source": [
    "a"
   ]
  },
  {
   "cell_type": "code",
   "execution_count": 7,
   "id": "3a7183aa-ab3e-4a7e-9805-795f1ec17c09",
   "metadata": {},
   "outputs": [
    {
     "data": {
      "text/plain": [
       "dict"
      ]
     },
     "execution_count": 7,
     "metadata": {},
     "output_type": "execute_result"
    }
   ],
   "source": [
    "type(a)"
   ]
  },
  {
   "cell_type": "code",
   "execution_count": null,
   "id": "6abebb05-20aa-47fb-b1d7-f68f4c20530a",
   "metadata": {},
   "outputs": [],
   "source": []
  }
 ],
 "metadata": {
  "kernelspec": {
   "display_name": "Python 3 (ipykernel)",
   "language": "python",
   "name": "python3"
  },
  "language_info": {
   "codemirror_mode": {
    "name": "ipython",
    "version": 3
   },
   "file_extension": ".py",
   "mimetype": "text/x-python",
   "name": "python",
   "nbconvert_exporter": "python",
   "pygments_lexer": "ipython3",
   "version": "3.10.2"
  }
 },
 "nbformat": 4,
 "nbformat_minor": 5
}
