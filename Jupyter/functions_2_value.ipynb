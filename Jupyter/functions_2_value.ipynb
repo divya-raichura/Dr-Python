{
 "cells": [
  {
   "cell_type": "code",
   "execution_count": 4,
   "id": "a613db06-9d33-4905-9e20-1df87923a5c2",
   "metadata": {},
   "outputs": [],
   "source": [
    "def add(a, b):\n",
    "    print('hello')\n",
    "    return a + b"
   ]
  },
  {
   "cell_type": "code",
   "execution_count": 8,
   "id": "a8048f66-ed85-48a6-80fb-e1cb749469b0",
   "metadata": {},
   "outputs": [
    {
     "name": "stdout",
     "output_type": "stream",
     "text": [
      "hello\n"
     ]
    },
    {
     "data": {
      "text/plain": [
       "6"
      ]
     },
     "execution_count": 8,
     "metadata": {},
     "output_type": "execute_result"
    }
   ],
   "source": [
    "# 1\n",
    "add(5,1)"
   ]
  },
  {
   "cell_type": "code",
   "execution_count": 9,
   "id": "dbaedc53-a76b-492a-8831-95f306072e71",
   "metadata": {},
   "outputs": [
    {
     "name": "stdout",
     "output_type": "stream",
     "text": [
      "hello\n",
      "6\n"
     ]
    }
   ],
   "source": [
    "# 2\n",
    "print(add(5,1))"
   ]
  },
  {
   "cell_type": "code",
   "execution_count": 10,
   "id": "d0b9d439-4d03-4ead-9480-2a1601073cf5",
   "metadata": {},
   "outputs": [
    {
     "data": {
      "text/plain": [
       "<function __main__.add(a, b)>"
      ]
     },
     "execution_count": 10,
     "metadata": {},
     "output_type": "execute_result"
    }
   ],
   "source": [
    "# 3\n",
    "add"
   ]
  },
  {
   "cell_type": "code",
   "execution_count": 11,
   "id": "a4f0e125-c1b1-4101-8fe9-06126f39eefa",
   "metadata": {},
   "outputs": [
    {
     "name": "stdout",
     "output_type": "stream",
     "text": [
      "<function add at 0x0000013B8AF167A0>\n"
     ]
    }
   ],
   "source": [
    "# 4\n",
    "print(add)"
   ]
  },
  {
   "cell_type": "code",
   "execution_count": 16,
   "id": "b4781ee3-0799-4cdf-87b8-5d408323aef5",
   "metadata": {},
   "outputs": [
    {
     "name": "stdout",
     "output_type": "stream",
     "text": [
      "hello\n"
     ]
    }
   ],
   "source": [
    "# 1 same thing happens in java explained in _1_void file\n",
    "ans = add(5,1)"
   ]
  },
  {
   "cell_type": "code",
   "execution_count": 18,
   "id": "12349f11-048d-4dc2-bbcc-b3e85b817961",
   "metadata": {},
   "outputs": [
    {
     "data": {
      "text/plain": [
       "6"
      ]
     },
     "execution_count": 18,
     "metadata": {},
     "output_type": "execute_result"
    }
   ],
   "source": [
    "# 2\n",
    "ans"
   ]
  },
  {
   "cell_type": "code",
   "execution_count": 20,
   "id": "f667dd46-54b4-4a88-9214-07d67e745672",
   "metadata": {},
   "outputs": [
    {
     "ename": "TypeError",
     "evalue": "'int' object is not callable",
     "output_type": "error",
     "traceback": [
      "\u001b[1;31m---------------------------------------------------------------------------\u001b[0m",
      "\u001b[1;31mTypeError\u001b[0m                                 Traceback (most recent call last)",
      "Input \u001b[1;32mIn [20]\u001b[0m, in \u001b[0;36m<cell line: 2>\u001b[1;34m()\u001b[0m\n\u001b[0;32m      1\u001b[0m \u001b[38;5;66;03m# 3\u001b[39;00m\n\u001b[1;32m----> 2\u001b[0m \u001b[43mans\u001b[49m\u001b[43m(\u001b[49m\u001b[43m)\u001b[49m\n",
      "\u001b[1;31mTypeError\u001b[0m: 'int' object is not callable"
     ]
    }
   ],
   "source": [
    "# 3\n",
    "ans()"
   ]
  },
  {
   "cell_type": "code",
   "execution_count": 23,
   "id": "ce1d8ec2-eac2-4583-86c4-4d28638802d7",
   "metadata": {},
   "outputs": [
    {
     "name": "stdout",
     "output_type": "stream",
     "text": [
      "6\n"
     ]
    }
   ],
   "source": [
    "# 4\n",
    "print(ans)"
   ]
  },
  {
   "cell_type": "code",
   "execution_count": 25,
   "id": "2efd7c4d-2fd1-4bf4-9121-adb8930a7d4e",
   "metadata": {},
   "outputs": [
    {
     "ename": "TypeError",
     "evalue": "'int' object is not callable",
     "output_type": "error",
     "traceback": [
      "\u001b[1;31m---------------------------------------------------------------------------\u001b[0m",
      "\u001b[1;31mTypeError\u001b[0m                                 Traceback (most recent call last)",
      "Input \u001b[1;32mIn [25]\u001b[0m, in \u001b[0;36m<cell line: 2>\u001b[1;34m()\u001b[0m\n\u001b[0;32m      1\u001b[0m \u001b[38;5;66;03m# 5\u001b[39;00m\n\u001b[1;32m----> 2\u001b[0m \u001b[38;5;28mprint\u001b[39m(\u001b[43mans\u001b[49m\u001b[43m(\u001b[49m\u001b[43m)\u001b[49m)\n",
      "\u001b[1;31mTypeError\u001b[0m: 'int' object is not callable"
     ]
    }
   ],
   "source": [
    "# 5\n",
    "print(ans())"
   ]
  },
  {
   "cell_type": "code",
   "execution_count": 28,
   "id": "b04fa942-d646-4a84-bfee-2c7ceab23a3d",
   "metadata": {},
   "outputs": [],
   "source": [
    "# 1\n",
    "ans_2 = add"
   ]
  },
  {
   "cell_type": "code",
   "execution_count": 29,
   "id": "e34150ba-ee46-4794-8a29-1dc8b0c4dc3b",
   "metadata": {},
   "outputs": [
    {
     "data": {
      "text/plain": [
       "<function __main__.add(a, b)>"
      ]
     },
     "execution_count": 29,
     "metadata": {},
     "output_type": "execute_result"
    }
   ],
   "source": [
    "# 2\n",
    "ans_2"
   ]
  },
  {
   "cell_type": "code",
   "execution_count": 31,
   "id": "3d82e8d7-ab15-4fd8-84e2-a30131794893",
   "metadata": {},
   "outputs": [
    {
     "name": "stdout",
     "output_type": "stream",
     "text": [
      "hello\n"
     ]
    },
    {
     "data": {
      "text/plain": [
       "8"
      ]
     },
     "execution_count": 31,
     "metadata": {},
     "output_type": "execute_result"
    }
   ],
   "source": [
    "# 3\n",
    "ans_2(5,3)"
   ]
  },
  {
   "cell_type": "code",
   "execution_count": 37,
   "id": "4a0329db-cee1-4f34-bdfa-6c0ff77b253f",
   "metadata": {},
   "outputs": [
    {
     "name": "stdout",
     "output_type": "stream",
     "text": [
      "<function add at 0x0000013B8AF167A0>\n"
     ]
    }
   ],
   "source": [
    "# 4\n",
    "(print(ans_2))"
   ]
  },
  {
   "cell_type": "code",
   "execution_count": 38,
   "id": "4a0a3edd-b916-4ba4-b206-22a78b1a085c",
   "metadata": {},
   "outputs": [
    {
     "name": "stdout",
     "output_type": "stream",
     "text": [
      "hello\n",
      "8\n"
     ]
    }
   ],
   "source": [
    "# 5\n",
    "print(ans_2(3,5))"
   ]
  },
  {
   "cell_type": "code",
   "execution_count": null,
   "id": "c4c87ee1-f33b-4959-8ac9-11f3b01c8375",
   "metadata": {},
   "outputs": [],
   "source": []
  },
  {
   "cell_type": "code",
   "execution_count": null,
   "id": "9de85da4-722e-4a40-8249-fd66501de97f",
   "metadata": {},
   "outputs": [],
   "source": []
  }
 ],
 "metadata": {
  "kernelspec": {
   "display_name": "Python 3 (ipykernel)",
   "language": "python",
   "name": "python3"
  },
  "language_info": {
   "codemirror_mode": {
    "name": "ipython",
    "version": 3
   },
   "file_extension": ".py",
   "mimetype": "text/x-python",
   "name": "python",
   "nbconvert_exporter": "python",
   "pygments_lexer": "ipython3",
   "version": "3.10.2"
  }
 },
 "nbformat": 4,
 "nbformat_minor": 5
}
