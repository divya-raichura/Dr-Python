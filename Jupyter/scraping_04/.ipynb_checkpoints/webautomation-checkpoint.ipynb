{
 "cells": [
  {
   "cell_type": "markdown",
   "id": "b03d10b4-8725-4ccb-ae0c-c3d451e78f78",
   "metadata": {},
   "source": [
    "# Script se chize browser me hongi"
   ]
  },
  {
   "cell_type": "code",
   "execution_count": 4,
   "id": "15529229-05f9-4dcd-ba6d-26d8768b0227",
   "metadata": {},
   "outputs": [],
   "source": [
    "from selenium import webdriver\n",
    "from webdriver_manager.chrome import ChromeDriverManager"
   ]
  },
  {
   "cell_type": "code",
   "execution_count": 5,
   "id": "3adfc53e-02a7-461a-8125-1330e72f4175",
   "metadata": {},
   "outputs": [
    {
     "name": "stderr",
     "output_type": "stream",
     "text": [
      "C:\\Users\\divya\\AppData\\Local\\Temp\\ipykernel_23736\\4151630907.py:1: DeprecationWarning: executable_path has been deprecated, please pass in a Service object\n",
      "  chrome = webdriver.Chrome(ChromeDriverManager().install()) # finds path and opens chrome\n"
     ]
    }
   ],
   "source": [
    "chrome = webdriver.Chrome(ChromeDriverManager().install()) # finds path and opens chrome"
   ]
  },
  {
   "cell_type": "code",
   "execution_count": 6,
   "id": "a29b7e6f-03fd-4ba5-8f0a-9da6926e0919",
   "metadata": {},
   "outputs": [],
   "source": [
    "chrome.get(\"https://web.whatsapp.com\")"
   ]
  },
  {
   "cell_type": "code",
   "execution_count": null,
   "id": "e4e1bb0a-1886-41ee-8485-6cb3f6056131",
   "metadata": {},
   "outputs": [],
   "source": []
  }
 ],
 "metadata": {
  "kernelspec": {
   "display_name": "Python 3 (ipykernel)",
   "language": "python",
   "name": "python3"
  },
  "language_info": {
   "codemirror_mode": {
    "name": "ipython",
    "version": 3
   },
   "file_extension": ".py",
   "mimetype": "text/x-python",
   "name": "python",
   "nbconvert_exporter": "python",
   "pygments_lexer": "ipython3",
   "version": "3.10.5"
  }
 },
 "nbformat": 4,
 "nbformat_minor": 5
}
