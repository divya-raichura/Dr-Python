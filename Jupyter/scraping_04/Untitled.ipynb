{
 "cells": [
  {
   "cell_type": "markdown",
   "id": "5973bb9c-9a18-4608-80ab-a8ec2c3f6f1c",
   "metadata": {},
   "source": [
    "# Browser se chize script me hongi"
   ]
  },
  {
   "cell_type": "code",
   "execution_count": 10,
   "id": "50db18f5-e3ad-48aa-8b37-4910ef941d30",
   "metadata": {},
   "outputs": [],
   "source": [
    "import requests as req\n",
    "import os"
   ]
  },
  {
   "cell_type": "code",
   "execution_count": 12,
   "id": "cfbc39f9-5ffc-46ee-92d9-a7c1771b0a63",
   "metadata": {},
   "outputs": [],
   "source": [
    "if not \"images_folder\" in os.listdir():\n",
    "    os.mkdir(\"images_folder\")\n",
    "\n",
    "res = req.get('https://www.google.com/url?sa=i&url=https%3A%2F%2Fwww.business-standard.com%2Fabout%2Fwho-is-elon-musk&psig=AOvVaw3qnvsfSrbzYIgvoQ11sZ79&ust=1665244993970000&source=images&cd=vfe&ved=0CAsQjRxqFwoTCODz55O_zvoCFQAAAAAdAAAAABAE')\n",
    "    \n",
    "with open(\"images_folder/elonmusk.jpg\", \"wb\") as file:\n",
    "    file.write(res.content)"
   ]
  },
  {
   "cell_type": "code",
   "execution_count": null,
   "id": "af109a73-4e61-4220-8587-c0017223b697",
   "metadata": {},
   "outputs": [],
   "source": []
  }
 ],
 "metadata": {
  "kernelspec": {
   "display_name": "Python 3 (ipykernel)",
   "language": "python",
   "name": "python3"
  },
  "language_info": {
   "codemirror_mode": {
    "name": "ipython",
    "version": 3
   },
   "file_extension": ".py",
   "mimetype": "text/x-python",
   "name": "python",
   "nbconvert_exporter": "python",
   "pygments_lexer": "ipython3",
   "version": "3.10.5"
  }
 },
 "nbformat": 4,
 "nbformat_minor": 5
}
