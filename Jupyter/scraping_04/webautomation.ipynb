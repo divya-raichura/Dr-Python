{
 "cells": [
  {
   "cell_type": "markdown",
   "id": "b03d10b4-8725-4ccb-ae0c-c3d451e78f78",
   "metadata": {},
   "source": [
    "# Script se chize browser me hongi"
   ]
  },
  {
   "cell_type": "code",
   "execution_count": 43,
   "id": "15529229-05f9-4dcd-ba6d-26d8768b0227",
   "metadata": {},
   "outputs": [],
   "source": [
    "from selenium import webdriver\n",
    "from webdriver_manager.chrome import ChromeDriverManager\n",
    "from selenium.webdriver.common.keys import Keys\n",
    "from selenium.webdriver.common.by import By\n",
    "\n",
    "import random"
   ]
  },
  {
   "cell_type": "code",
   "execution_count": 49,
   "id": "3adfc53e-02a7-461a-8125-1330e72f4175",
   "metadata": {},
   "outputs": [
    {
     "name": "stderr",
     "output_type": "stream",
     "text": [
      "C:\\Users\\divya\\AppData\\Local\\Temp\\ipykernel_23736\\4151630907.py:1: DeprecationWarning: executable_path has been deprecated, please pass in a Service object\n",
      "  chrome = webdriver.Chrome(ChromeDriverManager().install()) # finds path and opens chrome\n"
     ]
    }
   ],
   "source": [
    "chrome = webdriver.Chrome(ChromeDriverManager().install()) # finds path and opens chrome"
   ]
  },
  {
   "cell_type": "code",
   "execution_count": 50,
   "id": "a29b7e6f-03fd-4ba5-8f0a-9da6926e0919",
   "metadata": {},
   "outputs": [],
   "source": [
    "chrome.get(\"https://web.whatsapp.com\")"
   ]
  },
  {
   "cell_type": "code",
   "execution_count": 53,
   "id": "e4e1bb0a-1886-41ee-8485-6cb3f6056131",
   "metadata": {},
   "outputs": [],
   "source": [
    "search_box = chrome.find_element(By.CLASS_NAME, \"_13NKt\")\n",
    "search_box.send_keys(\"Basu\")\n",
    "search_box.send_keys(Keys.ENTER)"
   ]
  },
  {
   "cell_type": "code",
   "execution_count": 54,
   "id": "3d9afa23-81d7-4883-a4c4-28b95b746091",
   "metadata": {},
   "outputs": [],
   "source": [
    "text_box = chrome.find_element(By.CLASS_NAME, \"fd365im1\")\n",
    "text_box.send_keys(\"Hi\")\n",
    "text_box.send_keys(Keys.ENTER)"
   ]
  },
  {
   "cell_type": "code",
   "execution_count": 41,
   "id": "338c5e42-da91-442b-9495-d4775eb95345",
   "metadata": {},
   "outputs": [],
   "source": [
    "for i in range(0, 20):\n",
    "    text_box = chrome.find_element(By.CLASS_NAME, \"fd365im1\")\n",
    "    text_box.send_keys(\"AutoMatic\")\n",
    "    text_box.send_keys(Keys.ENTER)"
   ]
  },
  {
   "cell_type": "code",
   "execution_count": 47,
   "id": "5667f900-f421-4bec-8e44-23352630293e",
   "metadata": {},
   "outputs": [],
   "source": [
    "emojis = [\":-)\", \";-)\", \">_<\", \":-(\", \"^_^\"]"
   ]
  },
  {
   "cell_type": "code",
   "execution_count": 48,
   "id": "946c0f90-2196-46e6-bc76-af8347b6f6e8",
   "metadata": {},
   "outputs": [],
   "source": [
    "for i in range(0, 20):\n",
    "    text_box = chrome.find_element(By.CLASS_NAME, \"fd365im1\")\n",
    "    text_box.send_keys(random.choice(emojis))\n",
    "    text_box.send_keys(Keys.ENTER)"
   ]
  },
  {
   "cell_type": "code",
   "execution_count": null,
   "id": "ee748092-cd71-4ae5-ae33-38b6d00ae31c",
   "metadata": {},
   "outputs": [],
   "source": []
  }
 ],
 "metadata": {
  "kernelspec": {
   "display_name": "Python 3 (ipykernel)",
   "language": "python",
   "name": "python3"
  },
  "language_info": {
   "codemirror_mode": {
    "name": "ipython",
    "version": 3
   },
   "file_extension": ".py",
   "mimetype": "text/x-python",
   "name": "python",
   "nbconvert_exporter": "python",
   "pygments_lexer": "ipython3",
   "version": "3.10.5"
  }
 },
 "nbformat": 4,
 "nbformat_minor": 5
}
