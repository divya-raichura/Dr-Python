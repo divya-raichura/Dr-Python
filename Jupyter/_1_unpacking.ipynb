{
 "cells": [
  {
   "cell_type": "code",
   "execution_count": 1,
   "id": "e81a3031-1232-4c27-bce0-8cb4798ed95f",
   "metadata": {},
   "outputs": [],
   "source": [
    "num = (2,4,5,7)"
   ]
  },
  {
   "cell_type": "code",
   "execution_count": 2,
   "id": "640ee3a7-88e4-455a-aa1c-b69172df81e5",
   "metadata": {},
   "outputs": [],
   "source": [
    "a, b, c, d = num"
   ]
  },
  {
   "cell_type": "code",
   "execution_count": 3,
   "id": "e73c1cec-87da-439a-baa0-5db5fd500947",
   "metadata": {},
   "outputs": [
    {
     "data": {
      "text/plain": [
       "2"
      ]
     },
     "execution_count": 3,
     "metadata": {},
     "output_type": "execute_result"
    }
   ],
   "source": [
    "a"
   ]
  },
  {
   "cell_type": "code",
   "execution_count": 5,
   "id": "d70eb06f-9325-42e3-97dd-d051ab7547a8",
   "metadata": {},
   "outputs": [
    {
     "data": {
      "text/plain": [
       "7"
      ]
     },
     "execution_count": 5,
     "metadata": {},
     "output_type": "execute_result"
    }
   ],
   "source": [
    "d"
   ]
  },
  {
   "cell_type": "code",
   "execution_count": 7,
   "id": "3fa86a6f-1601-4dd0-895b-fe2355677767",
   "metadata": {},
   "outputs": [],
   "source": [
    "*a, = 1,24"
   ]
  },
  {
   "cell_type": "code",
   "execution_count": 9,
   "id": "ca4451c7-bcb8-48f5-85dd-cdbed328960b",
   "metadata": {},
   "outputs": [
    {
     "name": "stdout",
     "output_type": "stream",
     "text": [
      "[1, 24]\n",
      "1 24\n"
     ]
    },
    {
     "data": {
      "text/plain": [
       "list"
      ]
     },
     "execution_count": 9,
     "metadata": {},
     "output_type": "execute_result"
    }
   ],
   "source": [
    "print(a)\n",
    "print(*a)\n",
    "type(a)"
   ]
  },
  {
   "cell_type": "code",
   "execution_count": 12,
   "id": "a4d41926-7e9b-4254-8dcc-4e0e429d7ede",
   "metadata": {},
   "outputs": [],
   "source": [
    "*nos, = range(5)"
   ]
  },
  {
   "cell_type": "code",
   "execution_count": 13,
   "id": "1dbb2acd-e65f-4625-a197-b4758c40be68",
   "metadata": {},
   "outputs": [
    {
     "data": {
      "text/plain": [
       "[0, 1, 2, 3, 4]"
      ]
     },
     "execution_count": 13,
     "metadata": {},
     "output_type": "execute_result"
    }
   ],
   "source": [
    "nos"
   ]
  },
  {
   "cell_type": "code",
   "execution_count": 15,
   "id": "b553b4b0-08f3-4cb5-91c4-00ad2457f5bd",
   "metadata": {},
   "outputs": [
    {
     "name": "stdout",
     "output_type": "stream",
     "text": [
      "0 1 2 3 4\n"
     ]
    }
   ],
   "source": [
    "# *nos gives error\n",
    "print(*nos)"
   ]
  },
  {
   "cell_type": "code",
   "execution_count": 18,
   "id": "c77dad1a-249c-4e0c-a913-a252c314c1e0",
   "metadata": {},
   "outputs": [
    {
     "name": "stdout",
     "output_type": "stream",
     "text": [
      "<class 'tuple'>\n",
      "18\n"
     ]
    }
   ],
   "source": [
    "nums = [1,2,4,5,6]\n",
    "def add(*args):\n",
    "    print(type(args))\n",
    "    s = 0\n",
    "    for i in args:\n",
    "        s += i\n",
    "    return s\n",
    "print(add(*nums))"
   ]
  },
  {
   "cell_type": "code",
   "execution_count": 13,
   "id": "0fb9585d-e379-4946-a231-2cbc3a65ae3a",
   "metadata": {},
   "outputs": [
    {
     "name": "stdout",
     "output_type": "stream",
     "text": [
      "type: <class 'dict'>\n",
      "printing the kwargs: {'name': 'divya', 'surname': 'raichura'}\n",
      "('name', 'divya')\n",
      "('surname', 'raichura')\n",
      "\n",
      "printing using unpacking:-\n",
      "type: <class 'dict'>\n",
      "printing the kwargs: {'1': 'divya', '2': 'elon', '3': 'musk'}\n",
      "('1', 'divya')\n",
      "('2', 'elon')\n",
      "('3', 'musk')\n"
     ]
    }
   ],
   "source": [
    "d = {1: 'divya', 2: 'elon', 3: 'musk'}\n",
    "def print_me(**kwargs):\n",
    "    print('type:',type(kwargs))\n",
    "    print('printing the kwargs:',kwargs)\n",
    "    for i in kwargs.items():\n",
    "        print(i)\n",
    "print_me(name='divya', surname='raichura')\n",
    "# print_me(**d) # for this purpose keys should be str type\n",
    "e = {'1': 'divya', '2': 'elon', '3': 'musk'}\n",
    "print('\\nprinting using unpacking:-')\n",
    "print_me(**e)"
   ]
  },
  {
   "cell_type": "code",
   "execution_count": 14,
   "id": "77406dd3-6dfe-4979-9388-c1db15695afc",
   "metadata": {},
   "outputs": [
    {
     "name": "stdout",
     "output_type": "stream",
     "text": [
      "printing dict... {'id': 12112, 'location': 'london', 'net_worth': 12000}\n",
      "Melissa: id = 12112, location = london, net_worth = 12000, \n",
      "<class 'str'>\n"
     ]
    }
   ],
   "source": [
    "def make_person(name, **kwargs):\n",
    "    result = name + ': '\n",
    "    print('printing dict...',kwargs)\n",
    "    for key, value in kwargs.items():\n",
    "         result += '{} = {}, '.format(key,value)\n",
    "#        result += f'{key} = {value}, '     \n",
    "    return result\n",
    " \n",
    "output = make_person('Melissa', id=12112, location='london', net_worth=12000)\n",
    "print(output)\n",
    "print(type(output))"
   ]
  },
  {
   "cell_type": "code",
   "execution_count": null,
   "id": "06bab57c-31ad-4e83-9c82-e17cc9301662",
   "metadata": {},
   "outputs": [],
   "source": []
  }
 ],
 "metadata": {
  "kernelspec": {
   "display_name": "Python 3 (ipykernel)",
   "language": "python",
   "name": "python3"
  },
  "language_info": {
   "codemirror_mode": {
    "name": "ipython",
    "version": 3
   },
   "file_extension": ".py",
   "mimetype": "text/x-python",
   "name": "python",
   "nbconvert_exporter": "python",
   "pygments_lexer": "ipython3",
   "version": "3.10.2"
  }
 },
 "nbformat": 4,
 "nbformat_minor": 5
}
