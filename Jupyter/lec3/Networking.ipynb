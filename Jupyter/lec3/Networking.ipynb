{
 "cells": [
  {
   "cell_type": "code",
   "execution_count": 14,
   "id": "cd0fec86-c8f2-408b-b0d9-4e53f1a8854d",
   "metadata": {},
   "outputs": [],
   "source": [
    "import os  # terminal commands in python"
   ]
  },
  {
   "cell_type": "code",
   "execution_count": 15,
   "id": "404dcdb0-bd52-4f54-b8fc-c464c44b5bab",
   "metadata": {},
   "outputs": [
    {
     "data": {
      "text/plain": [
       "'C:\\\\Program Files\\\\Python310\\\\lib\\\\os.py'"
      ]
     },
     "execution_count": 15,
     "metadata": {},
     "output_type": "execute_result"
    }
   ],
   "source": [
    "os.__file__  # gives location of os file"
   ]
  },
  {
   "cell_type": "code",
   "execution_count": 16,
   "id": "fff02f57-0c86-48c9-a170-12cb38adc208",
   "metadata": {},
   "outputs": [
    {
     "data": {
      "text/plain": [
       "['.ipynb_checkpoints', 'Untitled.ipynb']"
      ]
     },
     "execution_count": 16,
     "metadata": {},
     "output_type": "execute_result"
    }
   ],
   "source": [
    "os.listdir()  # ls command"
   ]
  },
  {
   "cell_type": "code",
   "execution_count": 17,
   "id": "a382b507-4501-4aa7-80e3-1bfec823c2c2",
   "metadata": {},
   "outputs": [
    {
     "data": {
      "text/plain": [
       "'C:\\\\Users\\\\divya\\\\Dr-Python\\\\Jupyter\\\\lec3'"
      ]
     },
     "execution_count": 17,
     "metadata": {},
     "output_type": "execute_result"
    }
   ],
   "source": [
    "os.getcwd()  # current working directory"
   ]
  },
  {
   "cell_type": "code",
   "execution_count": null,
   "id": "cc0a9a95-4864-45ec-accd-2b84f08aeabe",
   "metadata": {},
   "outputs": [],
   "source": [
    "os.mkdir('dem')"
   ]
  }
 ],
 "metadata": {
  "kernelspec": {
   "display_name": "Python 3 (ipykernel)",
   "language": "python",
   "name": "python3"
  },
  "language_info": {
   "codemirror_mode": {
    "name": "ipython",
    "version": 3
   },
   "file_extension": ".py",
   "mimetype": "text/x-python",
   "name": "python",
   "nbconvert_exporter": "python",
   "pygments_lexer": "ipython3",
   "version": "3.10.2"
  }
 },
 "nbformat": 4,
 "nbformat_minor": 5
}
