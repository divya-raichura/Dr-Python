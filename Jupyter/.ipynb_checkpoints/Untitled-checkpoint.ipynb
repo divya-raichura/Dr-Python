{
 "cells": [
  {
   "cell_type": "code",
   "execution_count": 4,
   "id": "b1382ad3-ee40-4298-b26a-883bad0591ed",
   "metadata": {},
   "outputs": [
    {
     "data": {
      "text/plain": [
       "4.5"
      ]
     },
     "execution_count": 4,
     "metadata": {},
     "output_type": "execute_result"
    }
   ],
   "source": [
    "(3 + 6) / 2"
   ]
  },
  {
   "cell_type": "code",
   "execution_count": 7,
   "id": "3194443f-e834-4904-9024-87d58217b194",
   "metadata": {},
   "outputs": [
    {
     "data": {
      "text/plain": [
       "4"
      ]
     },
     "execution_count": 7,
     "metadata": {},
     "output_type": "execute_result"
    }
   ],
   "source": [
    "int((3 + 6) / 2)"
   ]
  },
  {
   "cell_type": "code",
   "execution_count": 8,
   "id": "a97948b5-b1c0-4964-a075-dca9426d4170",
   "metadata": {},
   "outputs": [
    {
     "data": {
      "text/plain": [
       "4"
      ]
     },
     "execution_count": 8,
     "metadata": {},
     "output_type": "execute_result"
    }
   ],
   "source": [
    "(3 + 6) // 2"
   ]
  },
  {
   "cell_type": "code",
   "execution_count": null,
   "id": "f3bf67ea-40f1-435f-8194-66b83693d572",
   "metadata": {},
   "outputs": [],
   "source": []
  }
 ],
 "metadata": {
  "kernelspec": {
   "display_name": "Python 3 (ipykernel)",
   "language": "python",
   "name": "python3"
  },
  "language_info": {
   "codemirror_mode": {
    "name": "ipython",
    "version": 3
   },
   "file_extension": ".py",
   "mimetype": "text/x-python",
   "name": "python",
   "nbconvert_exporter": "python",
   "pygments_lexer": "ipython3",
   "version": "3.10.2"
  }
 },
 "nbformat": 4,
 "nbformat_minor": 5
}
