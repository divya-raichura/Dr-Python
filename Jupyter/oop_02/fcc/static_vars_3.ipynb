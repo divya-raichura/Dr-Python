{
 "cells": [
  {
   "cell_type": "code",
   "execution_count": 13,
   "id": "e4b3c9ad-d185-475d-8510-25e45d679489",
   "metadata": {},
   "outputs": [],
   "source": [
    "class Item:\n",
    "    pay_rate = 0.8\n",
    "    def __init__(self, name: str, price: float, quantity = 0):\n",
    "        assert price >= 0, f\"price cannot be negative\"\n",
    "        assert quantity >= 0, f\"quantity cannot be negative\"\n",
    "        self.name = name\n",
    "        self.price = price\n",
    "        self.quantity = quantity\n",
    "        \n",
    "    def total(self):\n",
    "        return self.quantity * self.price\n",
    "    \n",
    "    def discount(self):\n",
    "        return self.price * Item.pay_rate  # self.pay_rate, if we use this\n",
    "# py will check in obj, if it doesn't exist then it will take from class\n",
    "# we shud not do this as payrate is same for all so Item.pay_rate shud be done\n",
    "# as if we create item.pay_rate somewhere then it will change the value of discount\n",
    "# for that item since now py will take pay_rate from obj iteself"
   ]
  },
  {
   "cell_type": "code",
   "execution_count": 14,
   "id": "cc78fd83-4e23-4a20-8bb3-1ef0056a5da8",
   "metadata": {},
   "outputs": [],
   "source": [
    "item = Item(\"phone\", 100, 2)"
   ]
  },
  {
   "cell_type": "code",
   "execution_count": 15,
   "id": "17741b36-f3bd-4f98-8780-736592568e6a",
   "metadata": {},
   "outputs": [
    {
     "name": "stdout",
     "output_type": "stream",
     "text": [
      "80.0\n"
     ]
    }
   ],
   "source": [
    "print(item.discount())"
   ]
  },
  {
   "cell_type": "code",
   "execution_count": 16,
   "id": "0d49a4f0-4ce5-4d5c-86d9-743de2880056",
   "metadata": {},
   "outputs": [],
   "source": [
    "# pay_rate is same for all. If we want some item to have diff value,\n",
    "# we can individually set it by item.pay_rate = 1.24 or something\n",
    "# but we will still recieve class wala since we are doing Item.pay_rate in that method\n",
    "# so we can change it to self.pay_rate which explained above"
   ]
  },
  {
   "cell_type": "code",
   "execution_count": null,
   "id": "1d007ae4-e3f9-48e4-8431-75bd89546ff7",
   "metadata": {},
   "outputs": [],
   "source": []
  }
 ],
 "metadata": {
  "kernelspec": {
   "display_name": "Python 3 (ipykernel)",
   "language": "python",
   "name": "python3"
  },
  "language_info": {
   "codemirror_mode": {
    "name": "ipython",
    "version": 3
   },
   "file_extension": ".py",
   "mimetype": "text/x-python",
   "name": "python",
   "nbconvert_exporter": "python",
   "pygments_lexer": "ipython3",
   "version": "3.10.2"
  }
 },
 "nbformat": 4,
 "nbformat_minor": 5
}
