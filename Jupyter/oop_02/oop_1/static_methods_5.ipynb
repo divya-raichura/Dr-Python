{
 "cells": [
  {
   "cell_type": "code",
   "execution_count": 1,
   "id": "8f8dfe68-1750-4651-8573-4575c4e1f6ea",
   "metadata": {},
   "outputs": [],
   "source": [
    "class Human:\n",
    "    pop = 0\n",
    "    def __init__(self, name, age):\n",
    "        self.age = age\n",
    "        self.name = name\n",
    "        Human.pop += 1\n",
    "    \n",
    "    @staticmethod  # Decorator\n",
    "    def fun():  # no self needed\n",
    "        print(Human.pop)"
   ]
  },
  {
   "cell_type": "code",
   "execution_count": 2,
   "id": "41707440-e2f7-41cc-a5a6-e79a6b77a371",
   "metadata": {},
   "outputs": [],
   "source": [
    "# static methods simple mean: WE DON'T NEED TO PASS 'self' IN THE FUNCTIONS NOW as they don't depend on obj\n",
    "# in java, simple classname.method use karte thee after putting static but yaha pe woh pehle hi karskte\n",
    "# classname.method(Object Ref Var) bas bracket me obj pass karna padta\n",
    "# in python, we put decorators after which it is not self is removed so no need to pass obj"
   ]
  },
  {
   "cell_type": "code",
   "execution_count": 3,
   "id": "a5079531-21aa-42d9-8068-9133feab0625",
   "metadata": {},
   "outputs": [
    {
     "name": "stdout",
     "output_type": "stream",
     "text": [
      "0\n"
     ]
    }
   ],
   "source": [
    "Human.fun() # no need to pass obj name, can call without creating object"
   ]
  },
  {
   "cell_type": "code",
   "execution_count": 4,
   "id": "b9b51371-b2e9-44a2-b57a-c943d6d3ffe4",
   "metadata": {},
   "outputs": [],
   "source": [
    "kunal = Human(\"kunal\", 18)"
   ]
  },
  {
   "cell_type": "code",
   "execution_count": 5,
   "id": "cc38db4e-76e2-4d30-af2f-0debe3e4c905",
   "metadata": {},
   "outputs": [
    {
     "name": "stdout",
     "output_type": "stream",
     "text": [
      "1\n",
      "1\n"
     ]
    }
   ],
   "source": [
    "Human.fun()  \n",
    "kunal.fun()"
   ]
  },
  {
   "cell_type": "code",
   "execution_count": 6,
   "id": "35c4689c-fe92-4900-9f06-bc67ee38211e",
   "metadata": {},
   "outputs": [],
   "source": [
    "class Human:\n",
    "    pop = 0\n",
    "    def __init__(self, name, age):\n",
    "        self.age = age\n",
    "        self.name = name\n",
    "        Human.pop += 1\n",
    "    \n",
    "    @staticmethod  # Decorator\n",
    "    def fun():  # no self needed\n",
    "        print(Human.pop)\n",
    "        \n",
    "    @classmethod\n",
    "    def atomBomb(cls):  # it will pass class \n",
    "        cls.pop = 0"
   ]
  },
  {
   "cell_type": "code",
   "execution_count": 7,
   "id": "29d87b7d-bcd2-4411-b2c4-f4bf9ea2e6f9",
   "metadata": {},
   "outputs": [],
   "source": [
    "kunal = Human(\"kunal\", 18)\n",
    "elon  = Human(\"Elon\", 50)"
   ]
  },
  {
   "cell_type": "code",
   "execution_count": 8,
   "id": "8e2b080a-6757-49df-853c-ba3a8a9715fa",
   "metadata": {},
   "outputs": [
    {
     "name": "stdout",
     "output_type": "stream",
     "text": [
      "2\n",
      "2\n",
      "2\n"
     ]
    }
   ],
   "source": [
    "kunal.fun()\n",
    "Human.fun()\n",
    "elon.fun()"
   ]
  },
  {
   "cell_type": "code",
   "execution_count": 9,
   "id": "53bbffbf-dbba-43c3-958e-7cf71b0975b3",
   "metadata": {},
   "outputs": [],
   "source": [
    "kunal.atomBomb()  # objectname.atomBomb() same"
   ]
  },
  {
   "cell_type": "code",
   "execution_count": 10,
   "id": "ec2710e7-2821-4714-8ba3-012e871e5ce8",
   "metadata": {},
   "outputs": [
    {
     "name": "stdout",
     "output_type": "stream",
     "text": [
      "0\n",
      "0\n",
      "0\n"
     ]
    }
   ],
   "source": [
    "kunal.fun()\n",
    "Human.fun()\n",
    "elon.fun()"
   ]
  },
  {
   "cell_type": "code",
   "execution_count": 11,
   "id": "1a58c138-a897-4487-a12f-d693a8f0f961",
   "metadata": {},
   "outputs": [
    {
     "name": "stdout",
     "output_type": "stream",
     "text": [
      "0\n"
     ]
    }
   ],
   "source": [
    "print(kunal.pop)"
   ]
  },
  {
   "cell_type": "code",
   "execution_count": 12,
   "id": "e01577c1-08b1-4235-a8a4-504151dc17aa",
   "metadata": {},
   "outputs": [],
   "source": [
    "class Human:\n",
    "    pop = 0\n",
    "    def __init__(self, name, age):\n",
    "        self.age = age\n",
    "        self.name = name\n",
    "        Human.pop += 1\n",
    "    \n",
    "    @staticmethod  # Decorator\n",
    "    def fun():  # no self needed\n",
    "        Human.pop = 0\n",
    "        \n",
    "    @classmethod\n",
    "    def atomBomb(cls):  # it will pass class \n",
    "        cls.pop = 0"
   ]
  },
  {
   "cell_type": "code",
   "execution_count": 13,
   "id": "f29d91ed-2b83-4312-badf-156e55f30303",
   "metadata": {},
   "outputs": [
    {
     "data": {
      "text/plain": [
       "2"
      ]
     },
     "execution_count": 13,
     "metadata": {},
     "output_type": "execute_result"
    }
   ],
   "source": [
    "kunal = Human(\"kunal\", 18)\n",
    "elon  = Human(\"Elon\", 50)\n",
    "kunal.pop"
   ]
  },
  {
   "cell_type": "code",
   "execution_count": 14,
   "id": "abe00acc-7dc9-496b-a104-8970f6290d35",
   "metadata": {},
   "outputs": [],
   "source": [
    "kunal.fun()"
   ]
  },
  {
   "cell_type": "code",
   "execution_count": 15,
   "id": "3f8388b1-844c-44e6-ad82-a25027b445ff",
   "metadata": {},
   "outputs": [
    {
     "data": {
      "text/plain": [
       "0"
      ]
     },
     "execution_count": 15,
     "metadata": {},
     "output_type": "execute_result"
    }
   ],
   "source": [
    "kunal.pop"
   ]
  },
  {
   "cell_type": "code",
   "execution_count": 16,
   "id": "79a3d913-0fb6-4cf9-ac84-98495b7d8445",
   "metadata": {},
   "outputs": [],
   "source": [
    "class Human:\n",
    "    pop = 0\n",
    "    def __init__(self, name, age):\n",
    "        self.age = age\n",
    "        self.name = name\n",
    "        Human.pop += 1\n",
    "    \n",
    "    @staticmethod  # Decorator\n",
    "    def fun():  # no self needed\n",
    "        print(Human.pop)\n",
    "        \n",
    "    @classmethod\n",
    "    def atomBomb(cls):  # it will pass class \n",
    "        cls.pop = 0\n",
    "        \n",
    "    @classmethod\n",
    "    def fromString(cls, name, age):\n",
    "        return cls(name, age)"
   ]
  },
  {
   "cell_type": "code",
   "execution_count": 17,
   "id": "9593d3cf-4288-4927-866f-57307e3abc0e",
   "metadata": {},
   "outputs": [],
   "source": [
    "kunal = Human(\"Kunal\", 20)\n",
    "divya = Human.fromString(\"Divya\", 18)"
   ]
  },
  {
   "cell_type": "code",
   "execution_count": 18,
   "id": "e3ceba31-d0bd-49b3-a46f-2844b65a0d6a",
   "metadata": {},
   "outputs": [
    {
     "data": {
      "text/plain": [
       "2"
      ]
     },
     "execution_count": 18,
     "metadata": {},
     "output_type": "execute_result"
    }
   ],
   "source": [
    "divya.pop"
   ]
  },
  {
   "cell_type": "code",
   "execution_count": null,
   "id": "8410a3dd-3658-4165-a6bd-fb8655c38865",
   "metadata": {},
   "outputs": [],
   "source": []
  }
 ],
 "metadata": {
  "kernelspec": {
   "display_name": "Python 3 (ipykernel)",
   "language": "python",
   "name": "python3"
  },
  "language_info": {
   "codemirror_mode": {
    "name": "ipython",
    "version": 3
   },
   "file_extension": ".py",
   "mimetype": "text/x-python",
   "name": "python",
   "nbconvert_exporter": "python",
   "pygments_lexer": "ipython3",
   "version": "3.10.2"
  }
 },
 "nbformat": 4,
 "nbformat_minor": 5
}
