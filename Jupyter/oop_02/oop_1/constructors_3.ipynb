{
 "cells": [
  {
   "cell_type": "code",
   "execution_count": 11,
   "id": "2fcfb547-ed64-4003-af26-0b6c4316cc6f",
   "metadata": {},
   "outputs": [],
   "source": [
    "class Human:\n",
    "    # overriding -> we override the default constructor and pass name and age values\n",
    "    # similar to java, now we compulsorily need to pass name and age\n",
    "    def __init__(self, name, age):\n",
    "        self.age = age\n",
    "        self.name = name"
   ]
  },
  {
   "cell_type": "code",
   "execution_count": 12,
   "id": "ca8287e4-c0aa-4f70-856e-e01bfd0a4b1c",
   "metadata": {},
   "outputs": [],
   "source": [
    "kunal = Human(\"Kunal Kushwaha\", 20)"
   ]
  },
  {
   "cell_type": "code",
   "execution_count": 13,
   "id": "70c580bb-8db3-47a5-9148-5d29a1baff5c",
   "metadata": {},
   "outputs": [
    {
     "data": {
      "text/plain": [
       "(20, 'Kunal Kushwaha')"
      ]
     },
     "execution_count": 13,
     "metadata": {},
     "output_type": "execute_result"
    }
   ],
   "source": [
    "kunal.age, kunal.name"
   ]
  },
  {
   "cell_type": "code",
   "execution_count": 15,
   "id": "3d338fd7-bca7-4da8-a87a-4d93301ccb09",
   "metadata": {},
   "outputs": [
    {
     "ename": "AttributeError",
     "evalue": "type object 'Human' has no attribute 'age'",
     "output_type": "error",
     "traceback": [
      "\u001b[1;31m---------------------------------------------------------------------------\u001b[0m",
      "\u001b[1;31mAttributeError\u001b[0m                            Traceback (most recent call last)",
      "Input \u001b[1;32mIn [15]\u001b[0m, in \u001b[0;36m<cell line: 1>\u001b[1;34m()\u001b[0m\n\u001b[1;32m----> 1\u001b[0m \u001b[43mHuman\u001b[49m\u001b[38;5;241;43m.\u001b[39;49m\u001b[43mage\u001b[49m\n",
      "\u001b[1;31mAttributeError\u001b[0m: type object 'Human' has no attribute 'age'"
     ]
    }
   ],
   "source": [
    "Human.age  # Human does not have anything. all vars are in obj, see notes for diagram"
   ]
  },
  {
   "cell_type": "code",
   "execution_count": 16,
   "id": "a4319831-4232-4154-a99c-dd7a1d66b870",
   "metadata": {},
   "outputs": [],
   "source": [
    "# we can add stuff in class by using classname.stuff\n",
    "Human.chacha = \"stufff\""
   ]
  },
  {
   "cell_type": "code",
   "execution_count": 18,
   "id": "4e4fc092-e721-4eac-9f18-58c6862e21a4",
   "metadata": {},
   "outputs": [
    {
     "data": {
      "text/plain": [
       "'stufff'"
      ]
     },
     "execution_count": 18,
     "metadata": {},
     "output_type": "execute_result"
    }
   ],
   "source": [
    "Human.chacha"
   ]
  },
  {
   "cell_type": "code",
   "execution_count": 20,
   "id": "d0195d27-e8e3-42aa-a927-47f2218407b4",
   "metadata": {},
   "outputs": [
    {
     "data": {
      "text/plain": [
       "'stufff'"
      ]
     },
     "execution_count": 20,
     "metadata": {},
     "output_type": "execute_result"
    }
   ],
   "source": [
    "# chacha exists only for class, so if we do object.chacha then it will check first in obj\n",
    "# does obj have chacha? no, then it will check class has? yes, so it will print chacha from there\n",
    "kunal.chacha"
   ]
  },
  {
   "cell_type": "code",
   "execution_count": 25,
   "id": "dddc33da-5cd1-4933-94a3-a39c0d6c5702",
   "metadata": {},
   "outputs": [],
   "source": [
    "def fun():\n",
    "    print(\"hello\")\n",
    "def fun(a):\n",
    "    print(a)"
   ]
  },
  {
   "cell_type": "code",
   "execution_count": 26,
   "id": "1c56a042-46e6-46f7-b584-00db79bfaa6a",
   "metadata": {},
   "outputs": [
    {
     "name": "stdout",
     "output_type": "stream",
     "text": [
      "mauj hai\n"
     ]
    },
    {
     "ename": "TypeError",
     "evalue": "fun() missing 1 required positional argument: 'a'",
     "output_type": "error",
     "traceback": [
      "\u001b[1;31m---------------------------------------------------------------------------\u001b[0m",
      "\u001b[1;31mTypeError\u001b[0m                                 Traceback (most recent call last)",
      "Input \u001b[1;32mIn [26]\u001b[0m, in \u001b[0;36m<cell line: 2>\u001b[1;34m()\u001b[0m\n\u001b[0;32m      1\u001b[0m fun(\u001b[38;5;124m\"\u001b[39m\u001b[38;5;124mmauj hai\u001b[39m\u001b[38;5;124m\"\u001b[39m)\n\u001b[1;32m----> 2\u001b[0m \u001b[43mfun\u001b[49m\u001b[43m(\u001b[49m\u001b[43m)\u001b[49m\n",
      "\u001b[1;31mTypeError\u001b[0m: fun() missing 1 required positional argument: 'a'"
     ]
    }
   ],
   "source": [
    "fun(\"mauj hai\")\n",
    "fun()\n",
    "# no overloading in python. see notes for diagram"
   ]
  },
  {
   "cell_type": "code",
   "execution_count": null,
   "id": "eb52c10c-c76a-4fd7-bd2a-c7b787a2367d",
   "metadata": {},
   "outputs": [],
   "source": []
  }
 ],
 "metadata": {
  "kernelspec": {
   "display_name": "Python 3 (ipykernel)",
   "language": "python",
   "name": "python3"
  },
  "language_info": {
   "codemirror_mode": {
    "name": "ipython",
    "version": 3
   },
   "file_extension": ".py",
   "mimetype": "text/x-python",
   "name": "python",
   "nbconvert_exporter": "python",
   "pygments_lexer": "ipython3",
   "version": "3.10.2"
  }
 },
 "nbformat": 4,
 "nbformat_minor": 5
}
