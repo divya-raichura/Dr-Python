{
 "cells": [
  {
   "cell_type": "code",
   "execution_count": 1,
   "id": "79577c9e-cf69-4851-8c6f-091211ac3e20",
   "metadata": {},
   "outputs": [],
   "source": [
    "class Employee:\n",
    "    \n",
    "    def __init__(self, first, last):\n",
    "        self.first = first\n",
    "        self.last = last\n",
    "        self.email = first + '.' + last + '@email.com'\n",
    "    \n",
    "    def fullname(self):\n",
    "        return self.first + ' ' + self.last"
   ]
  },
  {
   "cell_type": "code",
   "execution_count": 2,
   "id": "e336098a-9763-413c-86b6-6480efcf77f5",
   "metadata": {},
   "outputs": [],
   "source": [
    "emp_1 = Employee('Kunal', 'Kushwaha')\n",
    "emp_2 = Employee('Ranveer', 'Allhabadia')"
   ]
  },
  {
   "cell_type": "code",
   "execution_count": 3,
   "id": "fa33b9bb-3d11-4ff1-82b3-8ec2014de6a6",
   "metadata": {},
   "outputs": [
    {
     "name": "stdout",
     "output_type": "stream",
     "text": [
      "<__main__.Employee object at 0x0000020252346080>\n"
     ]
    }
   ],
   "source": [
    "print(emp_1)"
   ]
  },
  {
   "cell_type": "code",
   "execution_count": 4,
   "id": "61f47a6f-c334-41e4-a479-9cbc8403a179",
   "metadata": {},
   "outputs": [
    {
     "data": {
      "text/plain": [
       "'<__main__.Employee object at 0x0000020252346080>'"
      ]
     },
     "execution_count": 4,
     "metadata": {},
     "output_type": "execute_result"
    }
   ],
   "source": [
    "repr(emp_1)"
   ]
  },
  {
   "cell_type": "code",
   "execution_count": 12,
   "id": "6894827c-fac4-485b-b1f5-904f775e7124",
   "metadata": {},
   "outputs": [],
   "source": [
    "class Employee:\n",
    "    \n",
    "    def __init__(self, first, last):\n",
    "        self.first = first\n",
    "        self.last = last\n",
    "        self.email = first + '.' + last + '@email.com'\n",
    "    \n",
    "    def fullname(self):\n",
    "        return self.first + ' ' + self.last\n",
    "    \n",
    "    def __repr__(self):\n",
    "        return f\"Employee('{self.first}', '{self.last}')\"\n",
    "    \n",
    "    def __str__(self):\n",
    "        return f\"{self.fullname()}-{self.email}\""
   ]
  },
  {
   "cell_type": "code",
   "execution_count": 13,
   "id": "e40c617d-6a92-4f8c-be76-17fd36e0b597",
   "metadata": {},
   "outputs": [
    {
     "name": "stdout",
     "output_type": "stream",
     "text": [
      "Kunal Kushwaha-Kunal.Kushwaha@email.com\n"
     ]
    }
   ],
   "source": [
    "emp_1 = Employee('Kunal', 'Kushwaha')\n",
    "emp_2 = Employee('Ranveer', 'Allhabadia')\n",
    "print(emp_1)"
   ]
  },
  {
   "cell_type": "code",
   "execution_count": 19,
   "id": "b3385e63-8981-479d-9ec7-770932cc36b0",
   "metadata": {},
   "outputs": [
    {
     "name": "stdout",
     "output_type": "stream",
     "text": [
      "Employee('Kunal', 'Kushwaha')\n",
      "Kunal Kushwaha-Kunal.Kushwaha@email.com\n",
      "\n",
      "other way\n",
      "Employee('Kunal', 'Kushwaha')\n",
      "Kunal Kushwaha-Kunal.Kushwaha@email.com\n"
     ]
    }
   ],
   "source": [
    "# we can access them specifically by\n",
    "print(repr(emp_1))\n",
    "print(str(emp_1))\n",
    "\n",
    "print('\\nother way')\n",
    "print(emp_1.__repr__())\n",
    "print(emp_1.__str__())"
   ]
  },
  {
   "cell_type": "code",
   "execution_count": 29,
   "id": "5cc748e9-5559-4ef5-9104-12ff71ea7015",
   "metadata": {},
   "outputs": [],
   "source": [
    "class Employee:\n",
    "    \n",
    "    def __init__(self, first, last, pay):\n",
    "        self.first = first\n",
    "        self.last = last\n",
    "        self.pay = pay\n",
    "        self.email = first + '.' + last + '@email.com'\n",
    "    \n",
    "    def fullname(self):\n",
    "        return self.first + ' ' + self.last\n",
    "    \n",
    "    def __add__(self,other):\n",
    "        return self.pay + other.pay\n",
    "    \n",
    "    def __len__(self):\n",
    "        return len(self.fullname())"
   ]
  },
  {
   "cell_type": "code",
   "execution_count": 30,
   "id": "fa29f0cb-1ca3-4572-9b4d-c712870b261e",
   "metadata": {},
   "outputs": [],
   "source": [
    "emp_1 = Employee('Kunal', 'Kushwaha', 5000)\n",
    "emp_2 = Employee('Ranveer', 'Allhabadia', 6000)"
   ]
  },
  {
   "cell_type": "code",
   "execution_count": 31,
   "id": "7b17e4b9-c8f2-4cc5-86ee-ba74589dd468",
   "metadata": {},
   "outputs": [
    {
     "name": "stdout",
     "output_type": "stream",
     "text": [
      "3\n",
      "ad\n"
     ]
    }
   ],
   "source": [
    "# when we do addition integers and strings use their own specific dunder methods. Hence, \n",
    "# strings get concatenated while int are added\n",
    "print(int.__add__(1,2))\n",
    "print(str.__add__('a','d'))"
   ]
  },
  {
   "cell_type": "code",
   "execution_count": 34,
   "id": "1545542d-1248-4a5d-b3f4-fa7e6d002840",
   "metadata": {},
   "outputs": [],
   "source": [
    "# lets say when add two Employee obj they should print added pay of their's\n",
    "# for this we put dunder add method their, its like overriding, when we will add \n",
    "# these obj, this add will be used instead of default one just like str and int have their own\n",
    "# similarly we have length method"
   ]
  },
  {
   "cell_type": "code",
   "execution_count": 35,
   "id": "3468ccfb-e3c4-4a25-8b70-9b2c33c182a3",
   "metadata": {},
   "outputs": [
    {
     "name": "stdout",
     "output_type": "stream",
     "text": [
      "11000\n"
     ]
    }
   ],
   "source": [
    "print(emp_1+emp_2)"
   ]
  },
  {
   "cell_type": "code",
   "execution_count": 39,
   "id": "29406544-72cf-4b20-8395-8935b5cf71eb",
   "metadata": {},
   "outputs": [
    {
     "name": "stdout",
     "output_type": "stream",
     "text": [
      "4\n",
      "4\n"
     ]
    }
   ],
   "source": [
    "# len method\n",
    "print(len('test'))\n",
    "print('test'.__len__())"
   ]
  },
  {
   "cell_type": "code",
   "execution_count": 46,
   "id": "9e780f67-c165-4852-9726-cfd74506fdb9",
   "metadata": {},
   "outputs": [
    {
     "name": "stdout",
     "output_type": "stream",
     "text": [
      "14\n"
     ]
    }
   ],
   "source": [
    "print(len(emp_1))"
   ]
  },
  {
   "cell_type": "code",
   "execution_count": null,
   "id": "1b4245a5-66c2-4ca0-9502-d482871233de",
   "metadata": {},
   "outputs": [],
   "source": []
  }
 ],
 "metadata": {
  "kernelspec": {
   "display_name": "Python 3 (ipykernel)",
   "language": "python",
   "name": "python3"
  },
  "language_info": {
   "codemirror_mode": {
    "name": "ipython",
    "version": 3
   },
   "file_extension": ".py",
   "mimetype": "text/x-python",
   "name": "python",
   "nbconvert_exporter": "python",
   "pygments_lexer": "ipython3",
   "version": "3.10.2"
  }
 },
 "nbformat": 4,
 "nbformat_minor": 5
}
