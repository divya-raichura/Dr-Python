{
 "cells": [
  {
   "cell_type": "code",
   "execution_count": 2,
   "id": "d71988a8-5913-44e9-b5b2-e9c1e7c77ed5",
   "metadata": {},
   "outputs": [],
   "source": [
    "class Human:\n",
    "    age = 10\n",
    "    def fun():\n",
    "        print(\"Hello World\")"
   ]
  },
  {
   "cell_type": "code",
   "execution_count": 3,
   "id": "152828e0-c60e-4aea-bdc0-a3583f39ba6a",
   "metadata": {},
   "outputs": [],
   "source": [
    "kunal = Human()"
   ]
  },
  {
   "cell_type": "code",
   "execution_count": 4,
   "id": "12e16428-0a6e-4b45-abe9-6add5aa5e12b",
   "metadata": {},
   "outputs": [
    {
     "ename": "TypeError",
     "evalue": "Human.fun() takes 0 positional arguments but 1 was given",
     "output_type": "error",
     "traceback": [
      "\u001b[1;31m---------------------------------------------------------------------------\u001b[0m",
      "\u001b[1;31mTypeError\u001b[0m                                 Traceback (most recent call last)",
      "Input \u001b[1;32mIn [4]\u001b[0m, in \u001b[0;36m<cell line: 1>\u001b[1;34m()\u001b[0m\n\u001b[1;32m----> 1\u001b[0m \u001b[43mkunal\u001b[49m\u001b[38;5;241;43m.\u001b[39;49m\u001b[43mfun\u001b[49m\u001b[43m(\u001b[49m\u001b[43m)\u001b[49m\n",
      "\u001b[1;31mTypeError\u001b[0m: Human.fun() takes 0 positional arguments but 1 was given"
     ]
    }
   ],
   "source": [
    "kunal.fun()"
   ]
  },
  {
   "cell_type": "code",
   "execution_count": 5,
   "id": "49367203-3b8b-4b18-b458-1b068e5da439",
   "metadata": {},
   "outputs": [],
   "source": [
    "class Human:\n",
    "    age = 10\n",
    "    def fun(something):  # this something is 'self', it means object/ref var name \n",
    "        print(something)  \n",
    "        print(\"Hello World\")"
   ]
  },
  {
   "cell_type": "code",
   "execution_count": 6,
   "id": "dd6271bb-396f-41d9-942a-dae32367d084",
   "metadata": {},
   "outputs": [],
   "source": [
    "apoorv = Human()"
   ]
  },
  {
   "cell_type": "code",
   "execution_count": 7,
   "id": "b374c4ba-da0b-4e07-9d91-c61d483f1031",
   "metadata": {},
   "outputs": [
    {
     "name": "stdout",
     "output_type": "stream",
     "text": [
      "<__main__.Human object at 0x000002CC391CD6F0>\n",
      "Hello World\n"
     ]
    }
   ],
   "source": [
    "apoorv.fun()"
   ]
  },
  {
   "cell_type": "code",
   "execution_count": 8,
   "id": "58e6c200-b871-46b8-b1e0-dda640dd3faf",
   "metadata": {},
   "outputs": [],
   "source": [
    "class Human:\n",
    "    age = 10\n",
    "    def fun(self):  # wherever we write self, it is replaced by  object/ref var name \n",
    "        print(self)  \n",
    "        print(age)"
   ]
  },
  {
   "cell_type": "code",
   "execution_count": 9,
   "id": "e6aa388b-73b2-4fe0-8665-1ca99ad264ef",
   "metadata": {},
   "outputs": [],
   "source": [
    "elon = Human()"
   ]
  },
  {
   "cell_type": "code",
   "execution_count": 10,
   "id": "9bc9e357-bf49-49d7-acfc-c29e7eaf2d82",
   "metadata": {},
   "outputs": [
    {
     "name": "stdout",
     "output_type": "stream",
     "text": [
      "<__main__.Human object at 0x000002CC37F298D0>\n"
     ]
    },
    {
     "ename": "NameError",
     "evalue": "name 'age' is not defined",
     "output_type": "error",
     "traceback": [
      "\u001b[1;31m---------------------------------------------------------------------------\u001b[0m",
      "\u001b[1;31mNameError\u001b[0m                                 Traceback (most recent call last)",
      "Input \u001b[1;32mIn [10]\u001b[0m, in \u001b[0;36m<cell line: 1>\u001b[1;34m()\u001b[0m\n\u001b[1;32m----> 1\u001b[0m \u001b[43melon\u001b[49m\u001b[38;5;241;43m.\u001b[39;49m\u001b[43mfun\u001b[49m\u001b[43m(\u001b[49m\u001b[43m)\u001b[49m\n",
      "Input \u001b[1;32mIn [8]\u001b[0m, in \u001b[0;36mHuman.fun\u001b[1;34m(self)\u001b[0m\n\u001b[0;32m      3\u001b[0m \u001b[38;5;28;01mdef\u001b[39;00m \u001b[38;5;21mfun\u001b[39m(\u001b[38;5;28mself\u001b[39m):  \u001b[38;5;66;03m# wherever we write self, it is replaced by  object/ref var name \u001b[39;00m\n\u001b[0;32m      4\u001b[0m     \u001b[38;5;28mprint\u001b[39m(\u001b[38;5;28mself\u001b[39m)  \n\u001b[1;32m----> 5\u001b[0m     \u001b[38;5;28mprint\u001b[39m(\u001b[43mage\u001b[49m)\n",
      "\u001b[1;31mNameError\u001b[0m: name 'age' is not defined"
     ]
    }
   ],
   "source": [
    "elon.fun()"
   ]
  },
  {
   "cell_type": "code",
   "execution_count": 11,
   "id": "f5bab3cb-ce10-4d08-8daf-a930f767197c",
   "metadata": {},
   "outputs": [],
   "source": [
    "class Human:\n",
    "    age = 10\n",
    "    def fun(self):  # wherever we write self, it is replaced by  object/ref var name \n",
    "        print(self.age)"
   ]
  },
  {
   "cell_type": "code",
   "execution_count": 12,
   "id": "c6621f44-0a92-41d4-96ac-e78233d41160",
   "metadata": {},
   "outputs": [],
   "source": [
    "vedika = Human()"
   ]
  },
  {
   "cell_type": "code",
   "execution_count": 13,
   "id": "8e3af8aa-21a3-4392-b2dc-ef0b22a838ff",
   "metadata": {},
   "outputs": [
    {
     "name": "stdout",
     "output_type": "stream",
     "text": [
      "10\n"
     ]
    }
   ],
   "source": [
    "vedika.fun()  # object doesn't have age so it prints default one\n",
    "# it goes inside fun and does print(vedika.age)\n",
    "# vedika has age? no so class has? yes, print it then"
   ]
  },
  {
   "cell_type": "code",
   "execution_count": 14,
   "id": "6380360c-9490-4ba9-a5f6-fc6e75b303e6",
   "metadata": {},
   "outputs": [],
   "source": [
    "raichura = Human()"
   ]
  },
  {
   "cell_type": "code",
   "execution_count": 15,
   "id": "17ebde6e-75ab-4a23-98c6-26ec37cdaa46",
   "metadata": {},
   "outputs": [],
   "source": [
    "raichura.age = 100"
   ]
  },
  {
   "cell_type": "code",
   "execution_count": 16,
   "id": "f086e677-1afb-44c6-90fc-15a0e003e218",
   "metadata": {},
   "outputs": [
    {
     "name": "stdout",
     "output_type": "stream",
     "text": [
      "100\n"
     ]
    }
   ],
   "source": [
    "raichura.fun()  # this time, obj has age, so it will not print default, it will print age of obj"
   ]
  },
  {
   "cell_type": "code",
   "execution_count": 17,
   "id": "2f01b9b8-2349-49ef-838a-19c897a84e96",
   "metadata": {},
   "outputs": [],
   "source": [
    "# class Human:\n",
    "#     age = 10\n",
    "#     def fun(self):  \n",
    "#         print(self.age) # we can do, Human.age, for this it will print default age\n",
    "# for every object"
   ]
  },
  {
   "cell_type": "code",
   "execution_count": 18,
   "id": "dec4507e-c40b-4a94-ad9c-24d99516a689",
   "metadata": {},
   "outputs": [
    {
     "name": "stdout",
     "output_type": "stream",
     "text": [
      "100\n"
     ]
    }
   ],
   "source": [
    "raichura.fun()\n",
    "# this is same as below:-"
   ]
  },
  {
   "cell_type": "code",
   "execution_count": 19,
   "id": "689ab023-0686-4248-a64c-032dc139ed7f",
   "metadata": {},
   "outputs": [
    {
     "name": "stdout",
     "output_type": "stream",
     "text": [
      "100\n"
     ]
    }
   ],
   "source": [
    "Human.fun(raichura)"
   ]
  },
  {
   "cell_type": "code",
   "execution_count": 20,
   "id": "913a374f-9c58-49f4-9650-1ad94c66bef6",
   "metadata": {},
   "outputs": [],
   "source": [
    "class Human:\n",
    "    age = 10\n",
    "    def fun(self):  # wherever we write self, it is replaced by  object/ref var name \n",
    "        print(musk.age)"
   ]
  },
  {
   "cell_type": "code",
   "execution_count": 21,
   "id": "c50397f9-16c2-488c-b114-03b6e3cae8e6",
   "metadata": {},
   "outputs": [],
   "source": [
    "musk = Human()"
   ]
  },
  {
   "cell_type": "code",
   "execution_count": 22,
   "id": "e9181c56-8a1e-4c07-83f3-1091c61cd265",
   "metadata": {},
   "outputs": [
    {
     "name": "stdout",
     "output_type": "stream",
     "text": [
      "10\n"
     ]
    }
   ],
   "source": [
    "musk.fun()"
   ]
  },
  {
   "cell_type": "code",
   "execution_count": 23,
   "id": "1317f002-1aab-495d-84e9-acafc1b86b90",
   "metadata": {},
   "outputs": [],
   "source": [
    "mom = Human()"
   ]
  },
  {
   "cell_type": "code",
   "execution_count": 24,
   "id": "26707614-a0c9-4b26-a1f4-8d00dc9e4b50",
   "metadata": {},
   "outputs": [
    {
     "name": "stdout",
     "output_type": "stream",
     "text": [
      "10\n"
     ]
    }
   ],
   "source": [
    "mom.fun()"
   ]
  },
  {
   "cell_type": "code",
   "execution_count": 25,
   "id": "d4483a60-a55b-4fee-8e33-6b3b891b6226",
   "metadata": {},
   "outputs": [],
   "source": [
    "mom.age = 50"
   ]
  },
  {
   "cell_type": "code",
   "execution_count": 26,
   "id": "9bf7bb53-dc8d-4e81-b031-02e437b90ed5",
   "metadata": {},
   "outputs": [
    {
     "name": "stdout",
     "output_type": "stream",
     "text": [
      "10\n"
     ]
    }
   ],
   "source": [
    "mom.fun()"
   ]
  },
  {
   "cell_type": "code",
   "execution_count": null,
   "id": "2106d22c-39d1-4f9c-b4a0-fa93e726b3a7",
   "metadata": {},
   "outputs": [],
   "source": []
  }
 ],
 "metadata": {
  "kernelspec": {
   "display_name": "Python 3 (ipykernel)",
   "language": "python",
   "name": "python3"
  },
  "language_info": {
   "codemirror_mode": {
    "name": "ipython",
    "version": 3
   },
   "file_extension": ".py",
   "mimetype": "text/x-python",
   "name": "python",
   "nbconvert_exporter": "python",
   "pygments_lexer": "ipython3",
   "version": "3.10.2"
  }
 },
 "nbformat": 4,
 "nbformat_minor": 5
}
