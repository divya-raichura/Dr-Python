{
 "cells": [
  {
   "cell_type": "code",
   "execution_count": 9,
   "id": "30b2f83b-7121-46ba-b115-0423b0cdcf2b",
   "metadata": {},
   "outputs": [],
   "source": [
    "class Parent:\n",
    "    f = 80;\n",
    "    def __init__(self, value):\n",
    "        self.value = value"
   ]
  },
  {
   "cell_type": "code",
   "execution_count": 19,
   "id": "d6e16f07-549e-46ec-8015-3d2b95f8647a",
   "metadata": {},
   "outputs": [],
   "source": [
    "class Child(Parent):\n",
    "    def __init__(self, value, name):\n",
    "        super().__init__(value)\n",
    "        self.name = name"
   ]
  },
  {
   "cell_type": "code",
   "execution_count": 20,
   "id": "b819b884-48cd-42d1-a009-461884a7fe0b",
   "metadata": {},
   "outputs": [],
   "source": [
    "obj1 = Child(30, \"kunal\")"
   ]
  },
  {
   "cell_type": "code",
   "execution_count": 21,
   "id": "e1c90370-a305-4a10-9576-204ac3377b5c",
   "metadata": {},
   "outputs": [
    {
     "data": {
      "text/plain": [
       "(30, 80, 'kunal')"
      ]
     },
     "execution_count": 21,
     "metadata": {},
     "output_type": "execute_result"
    }
   ],
   "source": [
    "obj1.value, obj.f, obj.name"
   ]
  },
  {
   "cell_type": "code",
   "execution_count": 22,
   "id": "656050b2-d105-4317-8d1c-d438d8ebf6bd",
   "metadata": {},
   "outputs": [],
   "source": [
    "obj2 = Parent(20)"
   ]
  },
  {
   "cell_type": "code",
   "execution_count": 23,
   "id": "af3385cc-d4e2-4320-8d91-4829abde814b",
   "metadata": {},
   "outputs": [
    {
     "data": {
      "text/plain": [
       "(30, 20)"
      ]
     },
     "execution_count": 23,
     "metadata": {},
     "output_type": "execute_result"
    }
   ],
   "source": [
    "obj1.value, obj2.value"
   ]
  },
  {
   "cell_type": "code",
   "execution_count": 24,
   "id": "fbabe966-3c8b-47c2-bcdb-6086ff1365af",
   "metadata": {},
   "outputs": [],
   "source": [
    "# private stuff"
   ]
  },
  {
   "cell_type": "code",
   "execution_count": 32,
   "id": "52bcbeb5-b849-4eac-8537-940c23a6cb72",
   "metadata": {},
   "outputs": [],
   "source": [
    "class A:\n",
    "    def __init__(self, value):\n",
    "        self.__value = value  # not really private"
   ]
  },
  {
   "cell_type": "code",
   "execution_count": 33,
   "id": "7a596518-289b-4d35-98c1-b45856c5a899",
   "metadata": {},
   "outputs": [],
   "source": [
    "obj = A(91)"
   ]
  },
  {
   "cell_type": "code",
   "execution_count": 34,
   "id": "3c1ddd4b-d65d-4e3d-8a91-e4044c03dfa2",
   "metadata": {},
   "outputs": [
    {
     "ename": "AttributeError",
     "evalue": "'A' object has no attribute '__value'",
     "output_type": "error",
     "traceback": [
      "\u001b[1;31m---------------------------------------------------------------------------\u001b[0m",
      "\u001b[1;31mAttributeError\u001b[0m                            Traceback (most recent call last)",
      "Input \u001b[1;32mIn [34]\u001b[0m, in \u001b[0;36m<cell line: 1>\u001b[1;34m()\u001b[0m\n\u001b[1;32m----> 1\u001b[0m \u001b[43mobj\u001b[49m\u001b[38;5;241;43m.\u001b[39;49m\u001b[43m__value\u001b[49m\n",
      "\u001b[1;31mAttributeError\u001b[0m: 'A' object has no attribute '__value'"
     ]
    }
   ],
   "source": [
    "obj.__value  # can't access as it is private"
   ]
  },
  {
   "cell_type": "code",
   "execution_count": 35,
   "id": "8c8f1c52-19ad-4913-9a6b-8d853b3bf0a9",
   "metadata": {},
   "outputs": [],
   "source": [
    "# internally python changes __value to _A(classname)__value"
   ]
  },
  {
   "cell_type": "code",
   "execution_count": 36,
   "id": "727551ca-8292-41f8-bf86-43cd87b08003",
   "metadata": {},
   "outputs": [
    {
     "data": {
      "text/plain": [
       "91"
      ]
     },
     "execution_count": 36,
     "metadata": {},
     "output_type": "execute_result"
    }
   ],
   "source": [
    "obj._A__value  # now it is accessing it"
   ]
  },
  {
   "cell_type": "code",
   "execution_count": null,
   "id": "d584951c-69be-4ea5-96c2-205ece5825fc",
   "metadata": {},
   "outputs": [],
   "source": []
  }
 ],
 "metadata": {
  "kernelspec": {
   "display_name": "Python 3 (ipykernel)",
   "language": "python",
   "name": "python3"
  },
  "language_info": {
   "codemirror_mode": {
    "name": "ipython",
    "version": 3
   },
   "file_extension": ".py",
   "mimetype": "text/x-python",
   "name": "python",
   "nbconvert_exporter": "python",
   "pygments_lexer": "ipython3",
   "version": "3.10.2"
  }
 },
 "nbformat": 4,
 "nbformat_minor": 5
}
