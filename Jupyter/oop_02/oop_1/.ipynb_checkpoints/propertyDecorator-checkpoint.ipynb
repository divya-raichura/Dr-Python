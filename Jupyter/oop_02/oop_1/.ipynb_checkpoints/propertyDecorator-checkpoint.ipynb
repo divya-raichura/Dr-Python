{
 "cells": [
  {
   "cell_type": "code",
   "execution_count": 2,
   "id": "5417dd16-ef33-4527-9ded-a2f501beee18",
   "metadata": {},
   "outputs": [],
   "source": [
    "class Employee:\n",
    "    \n",
    "    def __init__(self, first, last):\n",
    "        self.first = first\n",
    "        self.last = last\n",
    "        self.email = first + '.' + last + '@email.com'\n",
    "    \n",
    "    def fullname(self):\n",
    "        return self.first + ' ' + self.last"
   ]
  },
  {
   "cell_type": "code",
   "execution_count": 3,
   "id": "bce7018b-91ed-434b-8408-6434e9a5add3",
   "metadata": {},
   "outputs": [],
   "source": [
    "emp_1 = Employee('Kunal', 'Kushwaha')"
   ]
  },
  {
   "cell_type": "code",
   "execution_count": 7,
   "id": "68638323-48fd-4a87-b024-62de30a4c3f0",
   "metadata": {},
   "outputs": [
    {
     "data": {
      "text/plain": [
       "('Kunal', 'Kunal Kushwaha', 'Kunal.Kushwaha@email.com')"
      ]
     },
     "execution_count": 7,
     "metadata": {},
     "output_type": "execute_result"
    }
   ],
   "source": [
    "emp_1.first, emp_1.fullname(), emp_1.email"
   ]
  },
  {
   "cell_type": "code",
   "execution_count": 8,
   "id": "9aa13472-9fc4-491d-a771-19b88854bd58",
   "metadata": {},
   "outputs": [],
   "source": [
    "emp_1.first = 'Ranveer'"
   ]
  },
  {
   "cell_type": "code",
   "execution_count": 10,
   "id": "87b6c151-77eb-40db-bb84-9f671ef0adf0",
   "metadata": {},
   "outputs": [
    {
     "data": {
      "text/plain": [
       "('Ranveer', 'Ranveer Kushwaha', 'Kunal.Kushwaha@email.com')"
      ]
     },
     "execution_count": 10,
     "metadata": {},
     "output_type": "execute_result"
    }
   ],
   "source": [
    "emp_1.first, emp_1.fullname(), emp_1.email  \n",
    "# email does not get updated"
   ]
  },
  {
   "cell_type": "code",
   "execution_count": 13,
   "id": "44684b47-6e35-4764-9def-c4031dd10802",
   "metadata": {},
   "outputs": [],
   "source": [
    "# how to update email auto when first or last name is changed?\n",
    "# we can make a method but it will break code for everyone using the class\n",
    "# and they need to update wherever they used email attribute with method '()'"
   ]
  },
  {
   "cell_type": "code",
   "execution_count": 15,
   "id": "2e0fff17-398c-467d-929f-d2cf088a16a6",
   "metadata": {},
   "outputs": [],
   "source": [
    "# we can do this using getter and setter, in python we can use property decorator which is similar\n",
    "# it allows to use method as an attribute"
   ]
  },
  {
   "cell_type": "code",
   "execution_count": 20,
   "id": "1b5742ee-8708-49a3-a219-3b4d13876a8d",
   "metadata": {},
   "outputs": [],
   "source": [
    "class Employee:\n",
    "    \n",
    "    def __init__(self, first, last):\n",
    "        self.first = first\n",
    "        self.last = last\n",
    "        # self.email = first + '.' + last + '@email.com'\n",
    "    \n",
    "    def fullname(self):\n",
    "        return self.first + ' ' + self.last\n",
    "    \n",
    "    def email(self):\n",
    "        return f\"{self.first}.{self.last}@email.com\""
   ]
  },
  {
   "cell_type": "code",
   "execution_count": 22,
   "id": "2bc848dc-e009-4e0d-8bbe-a3060cb23b16",
   "metadata": {},
   "outputs": [
    {
     "data": {
      "text/plain": [
       "('Ranveer', 'Ranveer Kushwaha', 'Ranveer.Kushwaha@email.com')"
      ]
     },
     "execution_count": 22,
     "metadata": {},
     "output_type": "execute_result"
    }
   ],
   "source": [
    "emp_1 = Employee('Kunal', 'Kushwaha')\n",
    "emp_1.first = 'Ranveer'\n",
    "emp_1.first, emp_1.fullname(), emp_1.email()\n",
    "# so we need to go everywhere we used emp_1.email and change it to emp_1.email()"
   ]
  },
  {
   "cell_type": "code",
   "execution_count": 25,
   "id": "a914bdb1-5920-401f-b490-21aabbab1059",
   "metadata": {},
   "outputs": [],
   "source": [
    "# so in order to continue accessing it as an attribute we need to add property decorator\n",
    "# we can do this will fullname method as well so that we don't need to call it\n",
    "class Employee:\n",
    "    \n",
    "    def __init__(self, first, last):\n",
    "        self.first = first\n",
    "        self.last = last\n",
    "        # self.email = first + '.' + last + '@email.com'\n",
    "    \n",
    "    @property\n",
    "    def fullname(self):\n",
    "        return self.first + ' ' + self.last\n",
    "    \n",
    "    @property\n",
    "    def email(self):\n",
    "        return f\"{self.first}.{self.last}@email.com\""
   ]
  },
  {
   "cell_type": "code",
   "execution_count": 26,
   "id": "37beec9f-8d3f-4199-af38-961d5f7aa361",
   "metadata": {},
   "outputs": [
    {
     "data": {
      "text/plain": [
       "('Ranveer', 'Ranveer Kushwaha', 'Ranveer.Kushwaha@email.com')"
      ]
     },
     "execution_count": 26,
     "metadata": {},
     "output_type": "execute_result"
    }
   ],
   "source": [
    "emp_1 = Employee('Kunal', 'Kushwaha')\n",
    "emp_1.first = 'Ranveer'\n",
    "emp_1.first, emp_1.fullname, emp_1.email"
   ]
  },
  {
   "cell_type": "code",
   "execution_count": 27,
   "id": "f983069f-ce9d-48db-95b4-ee5921e8ca9c",
   "metadata": {},
   "outputs": [],
   "source": [
    "# if we change fullname it should change first last and email also \n",
    "# we do this using setter"
   ]
  },
  {
   "cell_type": "code",
   "execution_count": 28,
   "id": "c072d0be-437b-4166-a734-caa79e3818dd",
   "metadata": {},
   "outputs": [],
   "source": [
    "class Employee:\n",
    "    \n",
    "    def __init__(self, first, last):\n",
    "        self.first = first\n",
    "        self.last = last\n",
    "        # self.email = first + '.' + last + '@email.com'\n",
    "    \n",
    "    @property\n",
    "    def fullname(self):\n",
    "        return self.first + ' ' + self.last\n",
    "    \n",
    "    @property\n",
    "    def email(self):\n",
    "        return f\"{self.first}.{self.last}@email.com\"\n",
    "    \n",
    "    @fullname.setter\n",
    "    def fullname(self,name):  # name is what we will pass when we set new name\n",
    "        first, last = name.split(' ')\n",
    "        self.first = first\n",
    "        self.last = last"
   ]
  },
  {
   "cell_type": "code",
   "execution_count": 29,
   "id": "37405d4b-3b14-4887-b62c-6ef2af0213ad",
   "metadata": {},
   "outputs": [],
   "source": [
    "emp_1 = Employee('Kunal', 'Kushwaha')\n",
    "emp_1.fullname = 'Jonny Depp'"
   ]
  },
  {
   "cell_type": "code",
   "execution_count": 30,
   "id": "66c17083-2c52-4e5a-890d-a798e4ebc4f1",
   "metadata": {},
   "outputs": [
    {
     "data": {
      "text/plain": [
       "('Jonny', 'Jonny Depp', 'Jonny.Depp@email.com')"
      ]
     },
     "execution_count": 30,
     "metadata": {},
     "output_type": "execute_result"
    }
   ],
   "source": [
    "emp_1.first, emp_1.fullname, emp_1.email"
   ]
  },
  {
   "cell_type": "code",
   "execution_count": null,
   "id": "8b9692e0-0da2-40b8-b945-d076195cc179",
   "metadata": {},
   "outputs": [],
   "source": []
  }
 ],
 "metadata": {
  "kernelspec": {
   "display_name": "Python 3 (ipykernel)",
   "language": "python",
   "name": "python3"
  },
  "language_info": {
   "codemirror_mode": {
    "name": "ipython",
    "version": 3
   },
   "file_extension": ".py",
   "mimetype": "text/x-python",
   "name": "python",
   "nbconvert_exporter": "python",
   "pygments_lexer": "ipython3",
   "version": "3.10.2"
  }
 },
 "nbformat": 4,
 "nbformat_minor": 5
}
