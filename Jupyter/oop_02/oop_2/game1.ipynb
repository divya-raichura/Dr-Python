{
 "cells": [
  {
   "cell_type": "code",
   "execution_count": 52,
   "id": "36101d20-ad98-4067-b57d-3d21d0febb7f",
   "metadata": {
    "tags": []
   },
   "outputs": [
    {
     "name": "stdin",
     "output_type": "stream",
     "text": [
      "Enter your name:  a\n"
     ]
    },
    {
     "name": "stdout",
     "output_type": "stream",
     "text": [
      "Welcome to the game a!!\n",
      "_ _ _ _ _ "
     ]
    },
    {
     "name": "stdin",
     "output_type": "stream",
     "text": [
      "\n",
      "Guess a character:  a\n"
     ]
    },
    {
     "name": "stdout",
     "output_type": "stream",
     "text": [
      "_ a _ _ _ "
     ]
    },
    {
     "name": "stdin",
     "output_type": "stream",
     "text": [
      "\n",
      "Guess a character:  aa\n"
     ]
    },
    {
     "name": "stdout",
     "output_type": "stream",
     "text": [
      "Wrong Answer\n",
      "You have 9 chances left\n",
      "_ a _ _ _ "
     ]
    },
    {
     "name": "stdin",
     "output_type": "stream",
     "text": [
      "\n",
      "Guess a character:  apple\n"
     ]
    },
    {
     "name": "stdout",
     "output_type": "stream",
     "text": [
      "Wrong Answer\n",
      "You have 8 chances left\n",
      "_ a _ _ _ "
     ]
    },
    {
     "name": "stdin",
     "output_type": "stream",
     "text": [
      "\n",
      "Guess a character:  f\n"
     ]
    },
    {
     "name": "stdout",
     "output_type": "stream",
     "text": [
      "Wrong Answer\n",
      "You have 7 chances left\n",
      "_ a _ _ _ "
     ]
    },
    {
     "name": "stdin",
     "output_type": "stream",
     "text": [
      "\n",
      "Guess a character:  gal\n"
     ]
    },
    {
     "name": "stdout",
     "output_type": "stream",
     "text": [
      "Wrong Answer\n",
      "You have 6 chances left\n",
      "_ a _ g _ "
     ]
    },
    {
     "name": "stdin",
     "output_type": "stream",
     "text": [
      "\n",
      "Guess a character:  x\n"
     ]
    },
    {
     "name": "stdout",
     "output_type": "stream",
     "text": [
      "Wrong Answer\n",
      "You have 5 chances left\n",
      "_ a _ g _ "
     ]
    },
    {
     "name": "stdin",
     "output_type": "stream",
     "text": [
      "\n",
      "Guess a character:  mango\n"
     ]
    },
    {
     "name": "stdout",
     "output_type": "stream",
     "text": [
      "m a n g o \n",
      "You won\n",
      "Your score is 50 out of 100!!!\n"
     ]
    }
   ],
   "source": [
    "name=input(\"Enter your name: \")\n",
    "print(f\"Welcome to the game {name}!!\")\n",
    "word = \"mango\"\n",
    "guesses = \"\"\n",
    "chances = 10\n",
    "while chances > 0:\n",
    "    won = True\n",
    "    for ch in word:\n",
    "        if ch in guesses:\n",
    "            print(ch, end=\" \")\n",
    "        else:\n",
    "            print(\"_\", end=\" \")\n",
    "            won = False\n",
    "    \n",
    "    if won:\n",
    "        print(\"\\nYou won\")\n",
    "        print(f\"Your score is {chances * 10} out of 100!!!\")\n",
    "        break\n",
    "        \n",
    "    guess = input(\"\\nGuess a character: \")\n",
    "    guesses += guess\n",
    "    \n",
    "    if guess not in word:\n",
    "        chances -= 1\n",
    "        print(\"Wrong Answer\")\n",
    "        print(f\"You have {chances} chances left\")\n",
    "    \n",
    "    if chances == 0:\n",
    "        print(\"You Lose!\")\n",
    "        break"
   ]
  },
  {
   "cell_type": "code",
   "execution_count": 51,
   "id": "4c955242-c447-4ee4-ad12-ac277fd6ce49",
   "metadata": {
    "tags": []
   },
   "outputs": [
    {
     "name": "stdin",
     "output_type": "stream",
     "text": [
      "Enter your name:  af\n"
     ]
    },
    {
     "name": "stdout",
     "output_type": "stream",
     "text": [
      "Welcome to the game af!!\n"
     ]
    },
    {
     "name": "stdin",
     "output_type": "stream",
     "text": [
      "Press 'y' to start game:  y\n"
     ]
    }
   ],
   "source": [
    "import random\n",
    "name=input(\"Enter your name: \")\n",
    "print(f\"Welcome to the game {name}!!\")\n",
    "words = [\"apple\", \"macbook\", \"opensource\", \"java\", \"python\", \"game\", \"elon\", \"jcole\", \"galaxy\"]\n",
    "word = random.choice(words)\n",
    "guesses = random.sample(word, 2)\n",
    "chances = 10\n",
    "play = input(\"Press 'y' to start game: \").upper\n",
    "if play == 'Y':\n",
    "    while chances > 0:\n",
    "        won = True\n",
    "        for ch in word:\n",
    "            if ch in guesses:\n",
    "                print(ch, end=\" \")\n",
    "            else:\n",
    "                print(\"_\", end=\" \")\n",
    "                won = False\n",
    "\n",
    "        if won:\n",
    "            print(\"\\nYou won\")\n",
    "            print(f\"Your score is {chances * 10} out of 100!!!\")\n",
    "            break\n",
    "\n",
    "        guess = input(\"\\nGuess a character: \")\n",
    "        guesses += guess\n",
    "\n",
    "        if guess not in word:\n",
    "            chances -= 1\n",
    "            print(\"Wrong Answer\")\n",
    "            print(f\"You have {chances} chances left\")\n",
    "\n",
    "        if chances == 0:\n",
    "            print(\"You Lose!\")\n",
    "            print(f\"Word was {word}\")\n",
    "            break\n",
    "    play = input(\"Do you want to play again? Press 'y' if yes and any other letter if no: \").upper"
   ]
  },
  {
   "cell_type": "code",
   "execution_count": null,
   "id": "bb345dad-59b3-4db1-ab12-ce80e9da98f9",
   "metadata": {},
   "outputs": [],
   "source": []
  }
 ],
 "metadata": {
  "kernelspec": {
   "display_name": "Python 3 (ipykernel)",
   "language": "python",
   "name": "python3"
  },
  "language_info": {
   "codemirror_mode": {
    "name": "ipython",
    "version": 3
   },
   "file_extension": ".py",
   "mimetype": "text/x-python",
   "name": "python",
   "nbconvert_exporter": "python",
   "pygments_lexer": "ipython3",
   "version": "3.10.2"
  }
 },
 "nbformat": 4,
 "nbformat_minor": 5
}
