{
 "cells": [
  {
   "cell_type": "code",
   "execution_count": 20,
   "id": "d4df39b7-81d5-4fa6-8253-240860b68bb0",
   "metadata": {},
   "outputs": [],
   "source": [
    "def outer_func():\n",
    "    message = \"hi\"\n",
    "    \n",
    "    def inner_fun():  # inner func has access to outer function vars, this is closure concept\n",
    "        print(locals())\n",
    "        print(message)  # free variable\n",
    "        \n",
    "    return inner_fun"
   ]
  },
  {
   "cell_type": "code",
   "execution_count": 21,
   "id": "3e43eb9c-e82f-4222-a4ad-eb4903924e0d",
   "metadata": {},
   "outputs": [],
   "source": [
    "function_call = outer_func()  # my func == inner func here, therefore function_call() means inner_call()"
   ]
  },
  {
   "cell_type": "code",
   "execution_count": 22,
   "id": "5694e851-ecfc-4bdd-a6ec-bdc284c9458c",
   "metadata": {},
   "outputs": [
    {
     "name": "stdout",
     "output_type": "stream",
     "text": [
      "{'message': 'hi'}\n",
      "hi\n"
     ]
    }
   ],
   "source": [
    "function_call()"
   ]
  },
  {
   "cell_type": "code",
   "execution_count": 23,
   "id": "88fda3c7-0554-4b92-a209-d82b1ec06403",
   "metadata": {},
   "outputs": [],
   "source": [
    "# inner func is closure, and it has copy of enclosed vars, even tho outer func is over and so its vars\n",
    "# should also be over but it did not happen that way, inner function has that vars, it maintained them"
   ]
  },
  {
   "cell_type": "code",
   "execution_count": 24,
   "id": "04cbc9b6-6790-4a88-a7f4-f277ddd5136b",
   "metadata": {},
   "outputs": [],
   "source": [
    "# so for closure..\n",
    "# there shud be nested function\n",
    "# then nested function will have all the vars of outer function\n",
    "# and the outer function shud return the nested function\n",
    "# so, these were the reqs for closure"
   ]
  },
  {
   "cell_type": "code",
   "execution_count": 25,
   "id": "74323e66-31e2-462f-8222-67aabfdc4f98",
   "metadata": {},
   "outputs": [],
   "source": [
    "# free vars means vars that are used in func but not defined in the function"
   ]
  },
  {
   "cell_type": "code",
   "execution_count": 26,
   "id": "2f03bac4-19e0-44c1-9df7-afde4df49fa6",
   "metadata": {},
   "outputs": [],
   "source": [
    "# used in data hiding and decorators"
   ]
  },
  {
   "cell_type": "code",
   "execution_count": 28,
   "id": "28acb0ad-2f12-4cc1-807c-63ff173736a2",
   "metadata": {},
   "outputs": [],
   "source": [
    "def multiply(n):\n",
    "    def multiplier(x):  # outer value access kar payega inner ke through even tho outer function khtm hojaye\n",
    "        return x * n;  # n ki value will be stored\n",
    "    return multiplier"
   ]
  },
  {
   "cell_type": "code",
   "execution_count": 29,
   "id": "bc622e41-a001-4fb7-b854-b426a9592d8c",
   "metadata": {},
   "outputs": [],
   "source": [
    "times4 = multiply(4)"
   ]
  },
  {
   "cell_type": "code",
   "execution_count": 31,
   "id": "be1b3b7a-8c74-428c-bb2c-9d1d2deefb4f",
   "metadata": {},
   "outputs": [
    {
     "data": {
      "text/plain": [
       "36"
      ]
     },
     "execution_count": 31,
     "metadata": {},
     "output_type": "execute_result"
    }
   ],
   "source": [
    "times4(9)"
   ]
  },
  {
   "cell_type": "code",
   "execution_count": null,
   "id": "26d6a9cd-0e19-418d-a697-47c6d9a792c5",
   "metadata": {},
   "outputs": [],
   "source": []
  }
 ],
 "metadata": {
  "kernelspec": {
   "display_name": "Python 3 (ipykernel)",
   "language": "python",
   "name": "python3"
  },
  "language_info": {
   "codemirror_mode": {
    "name": "ipython",
    "version": 3
   },
   "file_extension": ".py",
   "mimetype": "text/x-python",
   "name": "python",
   "nbconvert_exporter": "python",
   "pygments_lexer": "ipython3",
   "version": "3.10.2"
  }
 },
 "nbformat": 4,
 "nbformat_minor": 5
}
