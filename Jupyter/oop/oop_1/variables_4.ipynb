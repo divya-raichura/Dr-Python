{
 "cells": [
  {
   "cell_type": "code",
   "execution_count": 50,
   "id": "78868f36-d2d8-448a-bb4b-326c7bb6d928",
   "metadata": {},
   "outputs": [],
   "source": [
    "class Human:\n",
    "    pop = 0  # static vars: common for all objs of that class\n",
    "    def __init__(self, name, age):\n",
    "        self.age = age\n",
    "        self.name = name\n",
    "        # pop += 1  # this gives error on obj creation, says \n",
    "        # 'local variable 'pop' referenced before assignment'\n",
    "        # so it says to create pop first, so to access that human pop we need to \n",
    "        # do Human.pop += 1\n",
    "        Human.pop += 1"
   ]
  },
  {
   "cell_type": "code",
   "execution_count": 51,
   "id": "525ac589-1aab-4f46-8163-776c3598d62d",
   "metadata": {},
   "outputs": [
    {
     "data": {
      "text/plain": [
       "0"
      ]
     },
     "execution_count": 51,
     "metadata": {},
     "output_type": "execute_result"
    }
   ],
   "source": [
    "Human.pop"
   ]
  },
  {
   "cell_type": "code",
   "execution_count": 52,
   "id": "01742a2d-f4f1-479c-aea5-eab85a52af54",
   "metadata": {},
   "outputs": [],
   "source": [
    "kunal = Human(\"Kunal Kushwaha\", 18)"
   ]
  },
  {
   "cell_type": "code",
   "execution_count": 53,
   "id": "6fcb6ab4-e58f-4f4d-9ce3-cceaec0943ec",
   "metadata": {},
   "outputs": [
    {
     "data": {
      "text/plain": [
       "1"
      ]
     },
     "execution_count": 53,
     "metadata": {},
     "output_type": "execute_result"
    }
   ],
   "source": [
    "Human.pop"
   ]
  },
  {
   "cell_type": "code",
   "execution_count": 54,
   "id": "33316fc5-c0ea-43a2-b72b-1e32277709a9",
   "metadata": {},
   "outputs": [],
   "source": [
    "apoorv = Human(\"Apoorv\", 20)"
   ]
  },
  {
   "cell_type": "code",
   "execution_count": 55,
   "id": "283b3d4d-ec8b-46d7-9f96-a730d0243c11",
   "metadata": {},
   "outputs": [
    {
     "name": "stdout",
     "output_type": "stream",
     "text": [
      "2\n",
      "2\n",
      "2\n"
     ]
    }
   ],
   "source": [
    "print(Human.pop)\n",
    "print(kunal.pop)\n",
    "print(apoorv.pop)\n",
    "# so for all obj, it checks if obj has, if no, it takes pop from class, increases value and when\n",
    "# we print, it prints"
   ]
  },
  {
   "cell_type": "code",
   "execution_count": 56,
   "id": "84636299-70b7-4961-a675-c331e38e5107",
   "metadata": {},
   "outputs": [],
   "source": [
    "class Human:\n",
    "    pop = 0  # static vars: common for all objs of that class\n",
    "    def __init__(self, name, age):\n",
    "        self.age = age\n",
    "        self.name = name\n",
    "        # pop += 1  # this gives error on obj creation, says \n",
    "        # 'local variable 'pop' referenced before assignment'\n",
    "        # so it says to create pop first, so to access that human pop we need to \n",
    "        # do Human.pop += 1\n",
    "        self.pop += 1"
   ]
  },
  {
   "cell_type": "code",
   "execution_count": 61,
   "id": "79917474-ae64-4636-ba0a-dd729d61a096",
   "metadata": {},
   "outputs": [],
   "source": [
    "divya = Human(\"Divya\", 23)"
   ]
  },
  {
   "cell_type": "code",
   "execution_count": 62,
   "id": "d05f9533-c62d-437a-a0db-7281ad09e855",
   "metadata": {},
   "outputs": [
    {
     "data": {
      "text/plain": [
       "(23, 'Divya', 1, 0)"
      ]
     },
     "execution_count": 66,
     "metadata": {},
     "output_type": "execute_result"
    }
   ],
   "source": [
    "divya.age, divya.name, divya.pop, Human.pop"
   ]
  },
  {
   "cell_type": "code",
   "execution_count": null,
   "id": "df0f6fe3-6e5f-47fb-b2bf-fe788b61541e",
   "metadata": {},
   "outputs": [],
   "source": [
    "raichu = Human(\"Raichura\", 129)"
   ]
  },
  {
   "cell_type": "code",
   "execution_count": 69,
   "id": "e94c5424-5a59-4733-9304-9a212ac47a73",
   "metadata": {},
   "outputs": [
    {
     "data": {
      "text/plain": [
       "(1, 1, 0)"
      ]
     },
     "execution_count": 69,
     "metadata": {},
     "output_type": "execute_result"
    }
   ],
   "source": [
    "raichu.pop, divya.pop, Human.pop  # we are creating instance vars, so it doesn't update static ones"
   ]
  },
  {
   "cell_type": "code",
   "execution_count": 136,
   "id": "4148ef7d-f20b-4508-aab7-70b4d7efb2ed",
   "metadata": {},
   "outputs": [],
   "source": [
    "class Human:\n",
    "    pop = 0  # static vars: common for all objs of that class\n",
    "    def __init__(self, name, age):\n",
    "        self.age = age\n",
    "        self.name = name\n",
    "        Human.pop += 1"
   ]
  },
  {
   "cell_type": "code",
   "execution_count": 137,
   "id": "3314829e-2e14-46bd-8b7f-80f70022bdc1",
   "metadata": {},
   "outputs": [],
   "source": [
    "elon = Human(\"Elon Musk\", 50)"
   ]
  },
  {
   "cell_type": "code",
   "execution_count": 138,
   "id": "7c734922-6c05-4a54-8f31-92c6cad35fb7",
   "metadata": {},
   "outputs": [],
   "source": [
    "steve = Human(\"Steve Jobs\", 50)"
   ]
  },
  {
   "cell_type": "code",
   "execution_count": 139,
   "id": "1235c6aa-439d-427c-abaa-4b74e87f5b43",
   "metadata": {},
   "outputs": [
    {
     "data": {
      "text/plain": [
       "(2, 2, 2)"
      ]
     },
     "execution_count": 139,
     "metadata": {},
     "output_type": "execute_result"
    }
   ],
   "source": [
    "elon.pop, steve.pop, Human.pop  # Human.pop will increase pop for all"
   ]
  },
  {
   "cell_type": "code",
   "execution_count": 144,
   "id": "d4e550b4-2c42-4eee-9765-25688835da21",
   "metadata": {},
   "outputs": [],
   "source": [
    "elon.pop += 1  # elon.pop = elon.pop + 1  # see notes for diagram, basically it checks if obj has pop\n",
    "# no, so it takes pop from that static var and it assigns it to elon.pop ie it makes its own pop in \n",
    "# the object # see diagram"
   ]
  },
  {
   "cell_type": "code",
   "execution_count": 145,
   "id": "399c9cce-1e80-41dc-b88b-0425399a7d6d",
   "metadata": {},
   "outputs": [
    {
     "data": {
      "text/plain": [
       "(6, 2, 2)"
      ]
     },
     "execution_count": 145,
     "metadata": {},
     "output_type": "execute_result"
    }
   ],
   "source": [
    "elon.pop, steve.pop, Human.pop  # increased elon.pop by again and again running 75 block"
   ]
  },
  {
   "cell_type": "code",
   "execution_count": 146,
   "id": "3967c2ce-7f46-4a98-b672-5c7cbaa83c9f",
   "metadata": {},
   "outputs": [],
   "source": [
    "modi = Human(\"Narendra Modi\", 60)"
   ]
  },
  {
   "cell_type": "code",
   "execution_count": 147,
   "id": "df4cc13e-9e4f-4394-8940-b9a6b68f3372",
   "metadata": {},
   "outputs": [
    {
     "data": {
      "text/plain": [
       "(6, 3, 3, 3)"
      ]
     },
     "execution_count": 147,
     "metadata": {},
     "output_type": "execute_result"
    }
   ],
   "source": [
    "elon.pop, steve.pop, modi.pop, Human.pop  # pop of elon remained as it is, but others increased by one\n",
    "# this is because elon has its own pop now... so it checks does obj has pop? elon has, so it will print\n",
    "# pop of elon, for others also it will check, but they don't have, so it will print pop from class"
   ]
  },
  {
   "cell_type": "code",
   "execution_count": 148,
   "id": "2467bb73-742a-4afe-b73d-7db6f531d2bf",
   "metadata": {},
   "outputs": [],
   "source": [
    "# so this was same as above class when we did self.pop, it creates pop in obj itself"
   ]
  },
  {
   "cell_type": "code",
   "execution_count": 149,
   "id": "e532457d-b856-4a5f-95e5-e251cce2326c",
   "metadata": {},
   "outputs": [
    {
     "data": {
      "text/plain": [
       "(6, 4, 4, 4)"
      ]
     },
     "execution_count": 149,
     "metadata": {},
     "output_type": "execute_result"
    }
   ],
   "source": [
    "Human.pop += 1 # this will do pop+=1 for all, except for elon, cause elon has its own\n",
    "elon.pop, steve.pop, modi.pop, Human.pop"
   ]
  },
  {
   "cell_type": "code",
   "execution_count": null,
   "id": "ed9c5d60-0db1-460f-895d-40abe79a4db0",
   "metadata": {},
   "outputs": [],
   "source": []
  }
 ],
 "metadata": {
  "kernelspec": {
   "display_name": "Python 3 (ipykernel)",
   "language": "python",
   "name": "python3"
  },
  "language_info": {
   "codemirror_mode": {
    "name": "ipython",
    "version": 3
   },
   "file_extension": ".py",
   "mimetype": "text/x-python",
   "name": "python",
   "nbconvert_exporter": "python",
   "pygments_lexer": "ipython3",
   "version": "3.10.2"
  }
 },
 "nbformat": 4,
 "nbformat_minor": 5
}
