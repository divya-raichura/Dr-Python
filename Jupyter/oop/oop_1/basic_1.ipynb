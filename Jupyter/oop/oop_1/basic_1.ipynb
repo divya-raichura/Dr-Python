{
 "cells": [
  {
   "cell_type": "code",
   "execution_count": 1,
   "id": "52be7946-f89b-4a65-b46b-917de508fefd",
   "metadata": {},
   "outputs": [],
   "source": [
    "class Human:\n",
    "    age = 0\n",
    "    name = 'gumnam'"
   ]
  },
  {
   "cell_type": "code",
   "execution_count": 2,
   "id": "cfae8102-f424-48f3-8f14-52091353e10e",
   "metadata": {},
   "outputs": [],
   "source": [
    "kunal = Human()"
   ]
  },
  {
   "cell_type": "code",
   "execution_count": 3,
   "id": "3f90a165-59c2-48d5-8dda-3d2b96446234",
   "metadata": {},
   "outputs": [
    {
     "name": "stdout",
     "output_type": "stream",
     "text": [
      "gumnam\n",
      "18\n"
     ]
    }
   ],
   "source": [
    "print(Human.name)\n",
    "kunal.age = 18\n",
    "print(kunal.age)"
   ]
  },
  {
   "cell_type": "code",
   "execution_count": 4,
   "id": "675d1eb5-ec2a-41d1-9f6d-51d9e4ce8fba",
   "metadata": {},
   "outputs": [
    {
     "name": "stdout",
     "output_type": "stream",
     "text": [
      "5000\n"
     ]
    }
   ],
   "source": [
    "# kunal.salary  # this will give error as no value assigned\n",
    "kunal.salary = 5000  # this is correct, tho this will give error in java, there this is not allowed\n",
    "print(kunal.salary)  # this value was stored in object, not class, if we want to create var \n",
    "# for class in same way, we can do Human.salary = 0 ie classname.variable = value"
   ]
  },
  {
   "cell_type": "code",
   "execution_count": 5,
   "id": "e618926b-0145-4aaa-a1d7-64c77e438228",
   "metadata": {},
   "outputs": [],
   "source": [
    "# it will first see in object, if no value found there, it will check if var exists in class\n",
    "# if it doesn't exist there also then it will give error"
   ]
  }
 ],
 "metadata": {
  "kernelspec": {
   "display_name": "Python 3 (ipykernel)",
   "language": "python",
   "name": "python3"
  },
  "language_info": {
   "codemirror_mode": {
    "name": "ipython",
    "version": 3
   },
   "file_extension": ".py",
   "mimetype": "text/x-python",
   "name": "python",
   "nbconvert_exporter": "python",
   "pygments_lexer": "ipython3",
   "version": "3.10.2"
  }
 },
 "nbformat": 4,
 "nbformat_minor": 5
}
