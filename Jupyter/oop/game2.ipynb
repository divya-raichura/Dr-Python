{
 "cells": [
  {
   "cell_type": "code",
   "execution_count": 4,
   "id": "550c6ece-4c32-4225-8161-28574ee0b77f",
   "metadata": {
    "collapsed": true,
    "jupyter": {
     "outputs_hidden": true
    },
    "tags": []
   },
   "outputs": [
    {
     "name": "stdin",
     "output_type": "stream",
     "text": [
      "Enter your name:  da\n"
     ]
    },
    {
     "name": "stdout",
     "output_type": "stream",
     "text": [
      "Welcome to the game da!!\n"
     ]
    },
    {
     "name": "stdin",
     "output_type": "stream",
     "text": [
      "Press 'y' to start game:  y\n"
     ]
    },
    {
     "name": "stdout",
     "output_type": "stream",
     "text": [
      "_ _ _ _ o o _ "
     ]
    },
    {
     "name": "stdin",
     "output_type": "stream",
     "text": [
      "\n",
      "Guess a character:  a\n"
     ]
    },
    {
     "name": "stdout",
     "output_type": "stream",
     "text": [
      "_ a _ _ o o _ "
     ]
    },
    {
     "name": "stdin",
     "output_type": "stream",
     "text": [
      "\n",
      "Guess a character:  ma\n"
     ]
    },
    {
     "name": "stdout",
     "output_type": "stream",
     "text": [
      "m a _ _ o o _ "
     ]
    },
    {
     "name": "stdin",
     "output_type": "stream",
     "text": [
      "\n",
      "Guess a character:  c\n"
     ]
    },
    {
     "name": "stdout",
     "output_type": "stream",
     "text": [
      "m a c _ o o _ "
     ]
    },
    {
     "name": "stdin",
     "output_type": "stream",
     "text": [
      "\n",
      "Guess a character:  b\n"
     ]
    },
    {
     "name": "stdout",
     "output_type": "stream",
     "text": [
      "m a c b o o _ "
     ]
    },
    {
     "name": "stdin",
     "output_type": "stream",
     "text": [
      "\n",
      "Guess a character:  o\n"
     ]
    },
    {
     "name": "stdout",
     "output_type": "stream",
     "text": [
      "m a c b o o _ "
     ]
    },
    {
     "name": "stdin",
     "output_type": "stream",
     "text": [
      "\n",
      "Guess a character:  l\n"
     ]
    },
    {
     "name": "stdout",
     "output_type": "stream",
     "text": [
      "Wrong Answer\n",
      "You have 9 chances left\n",
      "m a c b o o _ "
     ]
    },
    {
     "name": "stdin",
     "output_type": "stream",
     "text": [
      "\n",
      "Guess a character:  k\n"
     ]
    },
    {
     "name": "stdout",
     "output_type": "stream",
     "text": [
      "m a c b o o k \n",
      "You won\n",
      "Your score is 90 out of 100!!!\n"
     ]
    },
    {
     "name": "stdin",
     "output_type": "stream",
     "text": [
      "Do you want to play again? Press 'y' if yes and any other letter if no:  y\n"
     ]
    },
    {
     "name": "stdout",
     "output_type": "stream",
     "text": [
      "_ _ l _ x _ "
     ]
    },
    {
     "name": "stdin",
     "output_type": "stream",
     "text": [
      "\n",
      "Guess a character:  a\n"
     ]
    },
    {
     "name": "stdout",
     "output_type": "stream",
     "text": [
      "_ a l a x _ "
     ]
    },
    {
     "name": "stdin",
     "output_type": "stream",
     "text": [
      "\n",
      "Guess a character:  \n"
     ]
    },
    {
     "name": "stdout",
     "output_type": "stream",
     "text": [
      "_ a l a x _ "
     ]
    },
    {
     "name": "stdin",
     "output_type": "stream",
     "text": [
      "\n",
      "Guess a character:  g\n"
     ]
    },
    {
     "name": "stdout",
     "output_type": "stream",
     "text": [
      "g a l a x _ "
     ]
    },
    {
     "name": "stdin",
     "output_type": "stream",
     "text": [
      "\n",
      "Guess a character:  y\n"
     ]
    },
    {
     "name": "stdout",
     "output_type": "stream",
     "text": [
      "g a l a x y \n",
      "You won\n",
      "Your score is 100 out of 100!!!\n"
     ]
    },
    {
     "name": "stdin",
     "output_type": "stream",
     "text": [
      "Do you want to play again? Press 'y' if yes and any other letter if no:  n\n"
     ]
    },
    {
     "name": "stdout",
     "output_type": "stream",
     "text": [
      "Thanks for playing, hope you enjoyed\n"
     ]
    }
   ],
   "source": [
    "import random\n",
    "name=input(\"Enter your name: \")\n",
    "print(f\"Welcome to the game {name}!!\")\n",
    "words = [\"apple\", \"macbook\", \"opensource\", \"java\", \"python\", \"game\", \"elon\", \"jcole\", \"galaxy\"]\n",
    "\n",
    "play = input(\"Press 'y' to start game: \").upper()\n",
    "while play == 'Y':\n",
    "    word = random.choice(words)\n",
    "    guesses = random.sample(word, 2)\n",
    "    chances = 10\n",
    "    while chances > 0:\n",
    "        won = True\n",
    "        for ch in word:\n",
    "            if ch in guesses:\n",
    "                print(ch, end=\" \")\n",
    "            else:\n",
    "                print(\"_\", end=\" \")\n",
    "                won = False\n",
    "\n",
    "        if won:\n",
    "            print(\"\\nYou won\")\n",
    "            print(f\"Your score is {chances * 10} out of 100!!!\")\n",
    "            break\n",
    "\n",
    "        guess = input(\"\\nGuess a character: \")\n",
    "        guesses += guess\n",
    "\n",
    "        if guess not in word:\n",
    "            chances -= 1\n",
    "            print(\"Wrong Answer\")\n",
    "            print(f\"You have {chances} chances left\")\n",
    "\n",
    "        if chances == 0:\n",
    "            print(\"You Lose!\")\n",
    "            print(f\"Word was {word}\")\n",
    "            break\n",
    "    play = input(\"Do you want to play again? Press 'y' if yes and any other letter if no: \").upper()\n",
    "print(\"Thanks for playing, hope you enjoyed\")"
   ]
  },
  {
   "cell_type": "code",
   "execution_count": null,
   "id": "1b962d57-ac41-47c4-984b-7b73a1110732",
   "metadata": {},
   "outputs": [],
   "source": []
  }
 ],
 "metadata": {
  "kernelspec": {
   "display_name": "Python 3 (ipykernel)",
   "language": "python",
   "name": "python3"
  },
  "language_info": {
   "codemirror_mode": {
    "name": "ipython",
    "version": 3
   },
   "file_extension": ".py",
   "mimetype": "text/x-python",
   "name": "python",
   "nbconvert_exporter": "python",
   "pygments_lexer": "ipython3",
   "version": "3.10.2"
  }
 },
 "nbformat": 4,
 "nbformat_minor": 5
}
