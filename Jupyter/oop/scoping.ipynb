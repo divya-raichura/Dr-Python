{
 "cells": [
  {
   "cell_type": "code",
   "execution_count": 8,
   "id": "073aca24-df73-4663-bbc9-5a9de17b175a",
   "metadata": {},
   "outputs": [],
   "source": [
    "def fun():\n",
    "    a = 10"
   ]
  },
  {
   "cell_type": "code",
   "execution_count": 9,
   "id": "007aa07c-e1f3-4844-b91e-a27c6c599ec3",
   "metadata": {},
   "outputs": [],
   "source": [
    "fun()"
   ]
  },
  {
   "cell_type": "code",
   "execution_count": 11,
   "id": "25dbef88-4c83-4e6b-a187-852dce3d9495",
   "metadata": {},
   "outputs": [
    {
     "ename": "NameError",
     "evalue": "name 'a' is not defined",
     "output_type": "error",
     "traceback": [
      "\u001b[1;31m---------------------------------------------------------------------------\u001b[0m",
      "\u001b[1;31mNameError\u001b[0m                                 Traceback (most recent call last)",
      "Input \u001b[1;32mIn [11]\u001b[0m, in \u001b[0;36m<cell line: 1>\u001b[1;34m()\u001b[0m\n\u001b[1;32m----> 1\u001b[0m \u001b[38;5;28mprint\u001b[39m(\u001b[43ma\u001b[49m)\n",
      "\u001b[1;31mNameError\u001b[0m: name 'a' is not defined"
     ]
    }
   ],
   "source": [
    "print(a)  # cannot access from outside, 'a' is defined inside function scope only"
   ]
  },
  {
   "cell_type": "code",
   "execution_count": 16,
   "id": "74523588-e043-4f29-bea6-4cdfd7a8822a",
   "metadata": {},
   "outputs": [
    {
     "ename": "UnboundLocalError",
     "evalue": "local variable 'a' referenced before assignment",
     "output_type": "error",
     "traceback": [
      "\u001b[1;31m---------------------------------------------------------------------------\u001b[0m",
      "\u001b[1;31mUnboundLocalError\u001b[0m                         Traceback (most recent call last)",
      "Input \u001b[1;32mIn [16]\u001b[0m, in \u001b[0;36m<cell line: 5>\u001b[1;34m()\u001b[0m\n\u001b[0;32m      2\u001b[0m \u001b[38;5;28;01mdef\u001b[39;00m \u001b[38;5;21mfun\u001b[39m():\n\u001b[0;32m      3\u001b[0m     \u001b[38;5;66;03m# global a  # if we do this, then only we can modify global\u001b[39;00m\n\u001b[0;32m      4\u001b[0m     a \u001b[38;5;241m=\u001b[39m a \u001b[38;5;241m+\u001b[39m \u001b[38;5;241m10\u001b[39m  \u001b[38;5;66;03m# we can't change value of 'a' we can only access it\u001b[39;00m\n\u001b[1;32m----> 5\u001b[0m \u001b[43mfun\u001b[49m\u001b[43m(\u001b[49m\u001b[43m)\u001b[49m\n",
      "Input \u001b[1;32mIn [16]\u001b[0m, in \u001b[0;36mfun\u001b[1;34m()\u001b[0m\n\u001b[0;32m      2\u001b[0m \u001b[38;5;28;01mdef\u001b[39;00m \u001b[38;5;21mfun\u001b[39m():\n\u001b[0;32m      3\u001b[0m     \u001b[38;5;66;03m# global a  # if we do this, then only we can modify global\u001b[39;00m\n\u001b[1;32m----> 4\u001b[0m     a \u001b[38;5;241m=\u001b[39m \u001b[43ma\u001b[49m \u001b[38;5;241m+\u001b[39m \u001b[38;5;241m10\u001b[39m\n",
      "\u001b[1;31mUnboundLocalError\u001b[0m: local variable 'a' referenced before assignment"
     ]
    }
   ],
   "source": [
    "a = 20\n",
    "def fun():\n",
    "    # global a  # if we do this, then only we can modify global\n",
    "    a = a + 10  # we can't change value of 'a' we can only access it\n",
    "fun()"
   ]
  },
  {
   "cell_type": "code",
   "execution_count": 19,
   "id": "11378d1e-9c2d-41ed-b3c4-43a338e74094",
   "metadata": {},
   "outputs": [
    {
     "name": "stdout",
     "output_type": "stream",
     "text": [
      "local var:  70\n",
      "global var:  20\n"
     ]
    }
   ],
   "source": [
    "a = 20\n",
    "def fun():\n",
    "    a = 60 \n",
    "    a = a + 10  # we can't change value of 'a' we can only access it\n",
    "    print('local var: ',a)\n",
    "fun()\n",
    "print('global var: ',a)"
   ]
  },
  {
   "cell_type": "code",
   "execution_count": 20,
   "id": "bc53aa7b-63c7-4933-8b41-29fcdd005b8d",
   "metadata": {},
   "outputs": [],
   "source": [
    "# we can access but cannot modify global vars \n",
    "# LEGB rule"
   ]
  },
  {
   "cell_type": "code",
   "execution_count": 24,
   "id": "51d117b8-75ae-4aaa-9667-5f84801f50b9",
   "metadata": {},
   "outputs": [],
   "source": [
    "x = 50\n",
    "def a():\n",
    "    x = 10  # this is local to 'a' and enclosed for b()\n",
    "    def b():\n",
    "        x = 40  # this is local to b()\n",
    "        print(\"x in b() is\", x)\n",
    "        print(\"locals for b() are \", locals())\n",
    "        \n",
    "    print(\"x in a() is\" , x)\n",
    "    print(\"locals for a() are\", locals())\n",
    "    return b()"
   ]
  },
  {
   "cell_type": "code",
   "execution_count": 26,
   "id": "e6774b28-727a-4c0d-98a1-cd33deb6510c",
   "metadata": {},
   "outputs": [
    {
     "name": "stdout",
     "output_type": "stream",
     "text": [
      "x in a() is 10\n",
      "locals for a() are {'x': 10, 'b': <function a.<locals>.b at 0x000001642A08A7A0>}\n",
      "x in b() is 40\n",
      "locals for b() are  {'x': 40}\n"
     ]
    }
   ],
   "source": [
    "a()"
   ]
  },
  {
   "cell_type": "code",
   "execution_count": 27,
   "id": "80375718-8ca4-475d-be42-a7e4b9647366",
   "metadata": {},
   "outputs": [],
   "source": [
    "x = 50\n",
    "def a():\n",
    "    x = 10  # this is local to 'a' and enclosed for b()\n",
    "    def b():\n",
    "        # x += 40  # cannot modify, to modify we need to do this:-\n",
    "        nonlocal x\n",
    "        x += 40\n",
    "        print(\"x in b() is\", x)\n",
    "        print(\"locals for b() are \", locals())\n",
    "        \n",
    "    print(\"x in a() is\" , x)\n",
    "    print(\"locals for a() are\", locals())\n",
    "    return b()"
   ]
  },
  {
   "cell_type": "code",
   "execution_count": 28,
   "id": "d7dac026-0d23-45ab-a65b-2c1e99e7a78a",
   "metadata": {},
   "outputs": [
    {
     "name": "stdout",
     "output_type": "stream",
     "text": [
      "x in a() is 10\n",
      "locals for a() are {'b': <function a.<locals>.b at 0x000001642A2F7B50>, 'x': 10}\n",
      "x in b() is 50\n",
      "locals for b() are  {'x': 50}\n"
     ]
    }
   ],
   "source": [
    "a()"
   ]
  },
  {
   "cell_type": "code",
   "execution_count": 32,
   "id": "e1171527-86a8-4527-b4f4-ec149bfca50f",
   "metadata": {},
   "outputs": [
    {
     "name": "stdout",
     "output_type": "stream",
     "text": [
      "global 256\n",
      "a 10\n",
      "b 45\n",
      "c 45\n"
     ]
    }
   ],
   "source": [
    "x = 256\n",
    "\n",
    "def a():\n",
    "    x = 10\n",
    "    \n",
    "    def b():\n",
    "        x = 45\n",
    "        \n",
    "        def c():\n",
    "            print('c',x)\n",
    "            \n",
    "        print('b',x)\n",
    "        c()\n",
    "        \n",
    "    print('a',x)\n",
    "    b()\n",
    "\n",
    "print('global', x)\n",
    "a()"
   ]
  },
  {
   "cell_type": "code",
   "execution_count": 36,
   "id": "64ce6963-e33e-4ecd-ab4e-95f2d681c7c4",
   "metadata": {},
   "outputs": [
    {
     "name": "stdout",
     "output_type": "stream",
     "text": [
      "global 256\n",
      "a 10\n",
      "b 45\n",
      "c 145\n",
      "b value of x after calling c 145\n"
     ]
    }
   ],
   "source": [
    "x = 256\n",
    "\n",
    "def a():\n",
    "    x = 10\n",
    "    \n",
    "    def b():\n",
    "        x = 45\n",
    "        \n",
    "        def c():\n",
    "            nonlocal x  # b() ka x change karega\n",
    "            # global ke liye global wala x change karega\n",
    "            x += 100\n",
    "            print('c',x)\n",
    "            \n",
    "        print('b',x)\n",
    "        c()\n",
    "        print('b value of x after calling c', x)\n",
    "        \n",
    "    print('a',x)\n",
    "    b()\n",
    "\n",
    "print('global', x)\n",
    "a()"
   ]
  },
  {
   "cell_type": "code",
   "execution_count": null,
   "id": "ca30c47e-f32c-42a0-a8c8-c97af8cc94d8",
   "metadata": {},
   "outputs": [],
   "source": []
  }
 ],
 "metadata": {
  "kernelspec": {
   "display_name": "Python 3 (ipykernel)",
   "language": "python",
   "name": "python3"
  },
  "language_info": {
   "codemirror_mode": {
    "name": "ipython",
    "version": 3
   },
   "file_extension": ".py",
   "mimetype": "text/x-python",
   "name": "python",
   "nbconvert_exporter": "python",
   "pygments_lexer": "ipython3",
   "version": "3.10.2"
  }
 },
 "nbformat": 4,
 "nbformat_minor": 5
}
