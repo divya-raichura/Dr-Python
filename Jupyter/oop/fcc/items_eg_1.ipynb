{
 "cells": [
  {
   "cell_type": "code",
   "execution_count": 2,
   "id": "8c92556e-fda4-42e3-851d-34fa25cf4cf2",
   "metadata": {},
   "outputs": [],
   "source": [
    "class Item:\n",
    "    def __init__(self, name, price, quantity):\n",
    "        self.name = name\n",
    "        self.price = price\n",
    "        self.quantity = quantity\n",
    "        \n",
    "    def total(self):\n",
    "        return self.quantity * self.price"
   ]
  },
  {
   "cell_type": "code",
   "execution_count": 3,
   "id": "7f0242c1-f770-4e5a-9fc6-37067a8321e0",
   "metadata": {},
   "outputs": [],
   "source": [
    "item_1 = Item(\"Phone\", 100, 3)\n",
    "item_2 = Item(\"Laptop\", 1000, 5)"
   ]
  },
  {
   "cell_type": "code",
   "execution_count": 4,
   "id": "7664c80d-dad6-432e-a647-1e425d90acfc",
   "metadata": {},
   "outputs": [],
   "source": [
    "# all this name, price, quantity is in the individual objects, class does not know about it\n",
    "# in java also we have 'something' similar like this, but we need to declare all this vars in class\n",
    "# here if we do it, then it is static automatically"
   ]
  },
  {
   "cell_type": "code",
   "execution_count": 5,
   "id": "83489795-4bcf-4df7-b1fc-e2af92d8f9f2",
   "metadata": {},
   "outputs": [],
   "source": [
    "# we can add random things, particular to that object, not possible in java\n",
    "item_2.numpad = True"
   ]
  },
  {
   "cell_type": "code",
   "execution_count": 6,
   "id": "eae2a9ea-22ec-4d69-a367-e71e887386b5",
   "metadata": {},
   "outputs": [],
   "source": [
    "class Item:\n",
    "    def __init__(self, name, price, quantity = 0):  # we can have default values, so that \n",
    "#  it is not compulsion to add values in arguments, if we add, those values will be \n",
    "#  considered and not these default values  \n",
    "        self.name = name\n",
    "        self.price = price\n",
    "        self.quantity = quantity\n",
    "\n",
    "    def total(self):\n",
    "        return self.quantity * self.price"
   ]
  },
  {
   "cell_type": "code",
   "execution_count": 7,
   "id": "9ecf2735-5c8d-4942-b047-9252767274c9",
   "metadata": {},
   "outputs": [],
   "source": [
    "item_1 = Item(\"Phone\", 100)\n",
    "item_2 = Item(\"Laptop\", 1000, 5)"
   ]
  },
  {
   "cell_type": "code",
   "execution_count": 8,
   "id": "7bf9ac1c-872e-458b-99d6-5fae841c45fb",
   "metadata": {},
   "outputs": [
    {
     "name": "stdout",
     "output_type": "stream",
     "text": [
      "5000\n"
     ]
    }
   ],
   "source": [
    "# print(Item.total()) # can't do like this as method is not static\n",
    "# as we saw in functions.py we can use Item.total(<object name here>.total)\n",
    "print(item_2.total())"
   ]
  },
  {
   "cell_type": "code",
   "execution_count": 13,
   "id": "e575e946-5db7-4ad8-a99d-e0ba17a3b4c8",
   "metadata": {},
   "outputs": [
    {
     "data": {
      "text/plain": [
       "5000"
      ]
     },
     "execution_count": 13,
     "metadata": {},
     "output_type": "execute_result"
    }
   ],
   "source": [
    "Item.total(item_2)  # Item.total() is wrong"
   ]
  },
  {
   "cell_type": "code",
   "execution_count": null,
   "id": "53783021-1c48-4d67-81f4-479b45a42f35",
   "metadata": {},
   "outputs": [],
   "source": []
  }
 ],
 "metadata": {
  "kernelspec": {
   "display_name": "Python 3 (ipykernel)",
   "language": "python",
   "name": "python3"
  },
  "language_info": {
   "codemirror_mode": {
    "name": "ipython",
    "version": 3
   },
   "file_extension": ".py",
   "mimetype": "text/x-python",
   "name": "python",
   "nbconvert_exporter": "python",
   "pygments_lexer": "ipython3",
   "version": "3.10.2"
  }
 },
 "nbformat": 4,
 "nbformat_minor": 5
}
