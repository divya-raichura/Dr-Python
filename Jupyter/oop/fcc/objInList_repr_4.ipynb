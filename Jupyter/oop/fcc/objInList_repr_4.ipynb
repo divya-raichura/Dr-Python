{
 "cells": [
  {
   "cell_type": "code",
   "execution_count": 19,
   "id": "ada20a6c-fb52-4b87-be52-2606787ccab7",
   "metadata": {},
   "outputs": [],
   "source": [
    "class Item:\n",
    "    pay_rate = 0.8\n",
    "    store = []\n",
    "    test = [\"does\", \"it\", \"print\", \"this\"]\n",
    "    def __init__(self, name: str, price: float, quantity = 0):\n",
    "\n",
    "        # check\n",
    "        assert price >= 0, f\"price cannot be negative\"\n",
    "        assert quantity >= 0, f\"quantity cannot be negative\"\n",
    "        \n",
    "        # give value\n",
    "        self.name = name\n",
    "        self.price = price\n",
    "        self.quantity = quantity\n",
    "        \n",
    "        # add to list when the object is instantiated\n",
    "        Item.store.append(self)\n",
    "        \n",
    "    def total(self):\n",
    "        return self.quantity * self.price\n",
    "    \n",
    "    def discount(self):\n",
    "        return self.price * Item.pay_rate"
   ]
  },
  {
   "cell_type": "code",
   "execution_count": 20,
   "id": "6daf0f78-dc8e-4b55-ab13-f9e6acbf0df2",
   "metadata": {},
   "outputs": [
    {
     "name": "stdout",
     "output_type": "stream",
     "text": [
      "<__main__.Item object at 0x0000016D333E7940>\n",
      "{'name': 'mouse', 'price': 100, 'quantity': 3}\n",
      "{'__module__': '__main__', 'pay_rate': 0.8, 'store': [<__main__.Item object at 0x0000016D333E7940>, <__main__.Item object at 0x0000016D333E6A40>, <__main__.Item object at 0x0000016D333E77C0>], 'test': ['does', 'it', 'print', 'this'], '__init__': <function Item.__init__ at 0x0000016D33347D00>, 'total': <function Item.total at 0x0000016D33347A30>, 'discount': <function Item.discount at 0x0000016D333470A0>, '__dict__': <attribute '__dict__' of 'Item' objects>, '__weakref__': <attribute '__weakref__' of 'Item' objects>, '__doc__': None}\n"
     ]
    }
   ],
   "source": [
    "item1 = Item(\"phone\", 200, 2)\n",
    "item2 = Item(\"laptop\", 500, 5)\n",
    "item3 = Item(\"mouse\", 100, 3).__dict__\n",
    "print(item1)\n",
    "print(item3)\n",
    "print(Item.__dict__)"
   ]
  },
  {
   "cell_type": "code",
   "execution_count": 21,
   "id": "b0df1444-9284-4b52-b46e-1768f8419c4f",
   "metadata": {},
   "outputs": [
    {
     "name": "stdout",
     "output_type": "stream",
     "text": [
      "[<__main__.Item object at 0x0000016D333E7940>, <__main__.Item object at 0x0000016D333E6A40>, <__main__.Item object at 0x0000016D333E77C0>]\n"
     ]
    }
   ],
   "source": [
    "print(Item.store)"
   ]
  },
  {
   "cell_type": "code",
   "execution_count": 22,
   "id": "489db29b-b3f9-4308-8a88-0c7d2bb4e7b9",
   "metadata": {},
   "outputs": [
    {
     "name": "stdout",
     "output_type": "stream",
     "text": [
      "phone\n",
      "laptop\n",
      "mouse\n"
     ]
    }
   ],
   "source": [
    "for items in Item.store:\n",
    "    print(items.name)"
   ]
  },
  {
   "cell_type": "code",
   "execution_count": 24,
   "id": "2902b9ed-1a4e-48e2-8eb1-207028ab3bab",
   "metadata": {},
   "outputs": [
    {
     "name": "stdout",
     "output_type": "stream",
     "text": [
      "['does', 'it', 'print', 'this']\n"
     ]
    }
   ],
   "source": [
    "print(Item.test)  # because, inside it has strings but in Item.store, inside there are wierd objs"
   ]
  },
  {
   "cell_type": "code",
   "execution_count": 26,
   "id": "cafa6c68-a952-4f82-b15c-a3c4b758bcde",
   "metadata": {},
   "outputs": [],
   "source": [
    "class Item:\n",
    "    pay_rate = 0.8\n",
    "    store = []\n",
    "    test = [\"does\", \"it\", \"print\", \"this\"]\n",
    "    def __init__(self, name: str, price: float, quantity = 0):\n",
    "\n",
    "        # check\n",
    "        assert price >= 0, f\"price cannot be negative\"\n",
    "        assert quantity >= 0, f\"quantity cannot be negative\"\n",
    "        \n",
    "        # give value\n",
    "        self.name = name\n",
    "        self.price = price\n",
    "        self.quantity = quantity\n",
    "        \n",
    "        # add to list when the object is instantiated\n",
    "        Item.store.append(self)\n",
    "        \n",
    "    def total(self):\n",
    "        return self.quantity * self.price\n",
    "    \n",
    "    def discount(self):\n",
    "        return self.price * Item.pay_rate\n",
    "    \n",
    "    def __repr__(self):\n",
    "        return f\"Item({self.name}, {self.price}, {self.quantity})\""
   ]
  },
  {
   "cell_type": "code",
   "execution_count": 27,
   "id": "824779c6-f444-43f6-b43f-9c6c32172fc8",
   "metadata": {},
   "outputs": [],
   "source": [
    "item1 = Item(\"phone\", 200, 2)\n",
    "item2 = Item(\"laptop\", 500, 5)\n",
    "item3 = Item(\"mouse\", 100, 3)"
   ]
  },
  {
   "cell_type": "code",
   "execution_count": 28,
   "id": "6b56d332-ae08-42ef-848f-8e16d0739afb",
   "metadata": {},
   "outputs": [
    {
     "name": "stdout",
     "output_type": "stream",
     "text": [
      "[Item(phone, 200, 2), Item(laptop, 500, 5), Item(mouse, 100, 3)]\n"
     ]
    }
   ],
   "source": [
    "print(Item.store)"
   ]
  },
  {
   "cell_type": "code",
   "execution_count": null,
   "id": "931abf8e-6644-44dd-a6e8-a721b1340551",
   "metadata": {},
   "outputs": [],
   "source": []
  }
 ],
 "metadata": {
  "kernelspec": {
   "display_name": "Python 3 (ipykernel)",
   "language": "python",
   "name": "python3"
  },
  "language_info": {
   "codemirror_mode": {
    "name": "ipython",
    "version": 3
   },
   "file_extension": ".py",
   "mimetype": "text/x-python",
   "name": "python",
   "nbconvert_exporter": "python",
   "pygments_lexer": "ipython3",
   "version": "3.10.2"
  }
 },
 "nbformat": 4,
 "nbformat_minor": 5
}
