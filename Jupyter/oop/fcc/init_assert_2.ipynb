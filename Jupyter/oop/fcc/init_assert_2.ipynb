{
 "cells": [
  {
   "cell_type": "code",
   "execution_count": 2,
   "id": "29f3eedd-c365-4c2e-b4c7-726606456700",
   "metadata": {},
   "outputs": [],
   "source": [
    "class Item:\n",
    "    def __init__(self, name, price, quantity = 0):  \n",
    "        self.name = name\n",
    "        self.price = price\n",
    "        self.quantity = quantity\n",
    "        \n",
    "    def total(self):\n",
    "        return self.quantity * self.price"
   ]
  },
  {
   "cell_type": "code",
   "execution_count": 3,
   "id": "475c6d52-a5d3-4c10-9200-659139d25688",
   "metadata": {},
   "outputs": [],
   "source": [
    "item = Item(\"laptop\", \"150\", 4)"
   ]
  },
  {
   "cell_type": "code",
   "execution_count": 6,
   "id": "fa2464d6-33c5-44ec-bbfd-ff66e5a1bec6",
   "metadata": {},
   "outputs": [
    {
     "name": "stdout",
     "output_type": "stream",
     "text": [
      "150150150150\n"
     ]
    }
   ],
   "source": [
    "print(item.total())  # we can assign data types in parameters to prevent this and do a type check"
   ]
  },
  {
   "cell_type": "code",
   "execution_count": 7,
   "id": "6c01ae99-8e85-4f8e-a15f-251ac21b596e",
   "metadata": {},
   "outputs": [],
   "source": [
    "class Item:\n",
    "    def __init__(self, name: str, price: float, quantity = 0):  # giving 0 (int) to quantity\n",
    "#         auto states that quantity shud have only integer args\n",
    "        self.name = name\n",
    "        self.price = price\n",
    "        self.quantity = quantity\n",
    "        \n",
    "    def total(self):\n",
    "        return self.quantity * self.price"
   ]
  },
  {
   "cell_type": "code",
   "execution_count": 9,
   "id": "40a5302a-cf7f-467a-81c9-929df568f022",
   "metadata": {},
   "outputs": [],
   "source": [
    "class Item:\n",
    "    def __init__(self, name: str, price: float, quantity = 0):\n",
    "        assert price >= 0, f\"price cannot be negative\"\n",
    "        assert quantity >= 0, f\"quantity cannot be negative\"\n",
    "        self.name = name\n",
    "        self.price = price\n",
    "        self.quantity = quantity\n",
    "        \n",
    "    def total(self):\n",
    "        return self.quantity * self.price"
   ]
  },
  {
   "cell_type": "code",
   "execution_count": 11,
   "id": "5b181c81-b0f9-4f8d-82b6-7ec6ba6d090f",
   "metadata": {},
   "outputs": [
    {
     "ename": "AssertionError",
     "evalue": "price cannot be negative",
     "output_type": "error",
     "traceback": [
      "\u001b[1;31m---------------------------------------------------------------------------\u001b[0m",
      "\u001b[1;31mAssertionError\u001b[0m                            Traceback (most recent call last)",
      "Input \u001b[1;32mIn [11]\u001b[0m, in \u001b[0;36m<cell line: 1>\u001b[1;34m()\u001b[0m\n\u001b[1;32m----> 1\u001b[0m item \u001b[38;5;241m=\u001b[39m \u001b[43mItem\u001b[49m\u001b[43m(\u001b[49m\u001b[38;5;124;43m\"\u001b[39;49m\u001b[38;5;124;43mphone\u001b[39;49m\u001b[38;5;124;43m\"\u001b[39;49m\u001b[43m,\u001b[49m\u001b[43m \u001b[49m\u001b[38;5;241;43m-\u001b[39;49m\u001b[38;5;241;43m3\u001b[39;49m\u001b[43m,\u001b[49m\u001b[43m \u001b[49m\u001b[38;5;241;43m4\u001b[39;49m\u001b[43m)\u001b[49m\n\u001b[0;32m      2\u001b[0m \u001b[38;5;28mprint\u001b[39m(item\u001b[38;5;241m.\u001b[39mtotal())\n",
      "Input \u001b[1;32mIn [9]\u001b[0m, in \u001b[0;36mItem.__init__\u001b[1;34m(self, name, price, quantity)\u001b[0m\n\u001b[0;32m      2\u001b[0m \u001b[38;5;28;01mdef\u001b[39;00m \u001b[38;5;21m__init__\u001b[39m(\u001b[38;5;28mself\u001b[39m, name: \u001b[38;5;28mstr\u001b[39m, price: \u001b[38;5;28mfloat\u001b[39m, quantity \u001b[38;5;241m=\u001b[39m \u001b[38;5;241m0\u001b[39m):\n\u001b[1;32m----> 3\u001b[0m     \u001b[38;5;28;01massert\u001b[39;00m price \u001b[38;5;241m>\u001b[39m\u001b[38;5;241m=\u001b[39m \u001b[38;5;241m0\u001b[39m, \u001b[38;5;124mf\u001b[39m\u001b[38;5;124m\"\u001b[39m\u001b[38;5;124mprice cannot be negative\u001b[39m\u001b[38;5;124m\"\u001b[39m\n\u001b[0;32m      4\u001b[0m     \u001b[38;5;28;01massert\u001b[39;00m quantity \u001b[38;5;241m>\u001b[39m\u001b[38;5;241m=\u001b[39m \u001b[38;5;241m0\u001b[39m, \u001b[38;5;124mf\u001b[39m\u001b[38;5;124m\"\u001b[39m\u001b[38;5;124mquantity cannot be negative\u001b[39m\u001b[38;5;124m\"\u001b[39m\n\u001b[0;32m      5\u001b[0m     \u001b[38;5;28mself\u001b[39m\u001b[38;5;241m.\u001b[39mname \u001b[38;5;241m=\u001b[39m name\n",
      "\u001b[1;31mAssertionError\u001b[0m: price cannot be negative"
     ]
    }
   ],
   "source": [
    "item = Item(\"phone\", -3, 4)\n",
    "print(item.total())"
   ]
  },
  {
   "cell_type": "code",
   "execution_count": null,
   "id": "62ce60d9-910d-4fc9-ac71-3fd7fdf9ec8a",
   "metadata": {},
   "outputs": [],
   "source": []
  }
 ],
 "metadata": {
  "kernelspec": {
   "display_name": "Python 3 (ipykernel)",
   "language": "python",
   "name": "python3"
  },
  "language_info": {
   "codemirror_mode": {
    "name": "ipython",
    "version": 3
   },
   "file_extension": ".py",
   "mimetype": "text/x-python",
   "name": "python",
   "nbconvert_exporter": "python",
   "pygments_lexer": "ipython3",
   "version": "3.10.2"
  }
 },
 "nbformat": 4,
 "nbformat_minor": 5
}
